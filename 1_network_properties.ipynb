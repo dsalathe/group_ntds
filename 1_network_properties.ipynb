{
 "cells": [
  {
   "cell_type": "markdown",
   "metadata": {},
   "source": [
    "# NTDS'18 milestone 1: network collection and properties\n",
    "[Effrosyni Simou](https://lts4.epfl.ch/simou), [EPFL LTS4](https://lts4.epfl.ch)"
   ]
  },
  {
   "cell_type": "markdown",
   "metadata": {},
   "source": [
    "## Students\n",
    "\n",
    "* Team: `8`\n",
    "* Students: `Matyas Lustig, Aurélien Pomini, David Salathé, Justine Weber`\n",
    "* Dataset: `Flight Routes`"
   ]
  },
  {
   "cell_type": "markdown",
   "metadata": {},
   "source": [
    "## Rules\n",
    "\n",
    "* Milestones have to be completed by teams. No collaboration between teams is allowed.\n",
    "* Textual answers shall be short. Typically one to three sentences.\n",
    "* Code has to be clean.\n",
    "* You cannot import any other library than we imported.\n",
    "* When submitting, the notebook is executed and the results are stored. I.e., if you open the notebook again it should show numerical results and plots. We won't be able to execute your notebooks.\n",
    "* The notebook is re-executed from a blank state before submission. That is to be sure it is reproducible. You can click \"Kernel\" then \"Restart & Run All\" in Jupyter."
   ]
  },
  {
   "cell_type": "markdown",
   "metadata": {},
   "source": [
    "## Objective "
   ]
  },
  {
   "cell_type": "markdown",
   "metadata": {},
   "source": [
    "The purpose of this milestone is to start getting acquainted to the network that you will use for this class. In the first part of the milestone you will import your data using [Pandas](http://pandas.pydata.org) and you will create the adjacency matrix using [Numpy](http://www.numpy.org). This part is project specific. In the second part you will have to compute some basic properties of your network. **For the computation of the properties you are only allowed to use the packages that have been imported in the cell below.** You are not allowed to use any graph-specific toolboxes for this milestone (such as networkx and PyGSP). Furthermore, the aim is not to blindly compute the network properties, but to also start to think about what kind of network you will be working with this semester. "
   ]
  },
  {
   "cell_type": "code",
   "execution_count": 91,
   "metadata": {},
   "outputs": [],
   "source": [
    "import numpy as np\n",
    "import pandas as pd\n",
    "import matplotlib.pyplot as plt"
   ]
  },
  {
   "cell_type": "markdown",
   "metadata": {},
   "source": [
    "## Part 1 - Import your data and manipulate them. "
   ]
  },
  {
   "cell_type": "markdown",
   "metadata": {},
   "source": [
    "###  A. Load your data in a Panda dataframe."
   ]
  },
  {
   "cell_type": "markdown",
   "metadata": {},
   "source": [
    "First, you should define and understand what are your nodes, what features you have and what are your labels. Please provide below a Panda dataframe where each row corresponds to a node with its features and labels. For example, in the the case of the Free Music Archive (FMA) Project, each row of the dataframe would be of the following form:\n",
    "\n",
    "\n",
    "| Track   |  Feature 1  | Feature 2 | . . . | Feature 518|  Label 1 |  Label 2 |. . .|Label 16|\n",
    "|:-------:|:-----------:|:---------:|:-----:|:----------:|:--------:|:--------:|:---:|:------:|\n",
    "|         |             |           |       |            |          |          |     |        |\n",
    "\n",
    "It is possible that in some of the projects either the features or the labels are not available. This is OK, in that case just make sure that you create a dataframe where each of the rows corresponds to a node and its associated features or labels."
   ]
  },
  {
   "cell_type": "code",
   "execution_count": 92,
   "metadata": {
    "scrolled": true
   },
   "outputs": [
    {
     "name": "stdout",
     "output_type": "stream",
     "text": [
      "Number of airports in the airports.dat file: 7184\n",
      "Number of \"active\" airports in the routes.dat file: 3186\n"
     ]
    },
    {
     "data": {
      "text/html": [
       "<div>\n",
       "<style scoped>\n",
       "    .dataframe tbody tr th:only-of-type {\n",
       "        vertical-align: middle;\n",
       "    }\n",
       "\n",
       "    .dataframe tbody tr th {\n",
       "        vertical-align: top;\n",
       "    }\n",
       "\n",
       "    .dataframe thead th {\n",
       "        text-align: right;\n",
       "    }\n",
       "</style>\n",
       "<table border=\"1\" class=\"dataframe\">\n",
       "  <thead>\n",
       "    <tr style=\"text-align: right;\">\n",
       "      <th></th>\n",
       "      <th>Airport ID</th>\n",
       "      <th>Name</th>\n",
       "      <th>City</th>\n",
       "      <th>Country</th>\n",
       "      <th>IATA</th>\n",
       "      <th>ICAO</th>\n",
       "      <th>Latitude</th>\n",
       "      <th>Longitude</th>\n",
       "      <th>Altitude</th>\n",
       "      <th>Timezone</th>\n",
       "      <th>DST</th>\n",
       "      <th>Tz db time zone</th>\n",
       "      <th>Type</th>\n",
       "      <th>Source</th>\n",
       "      <th>newidx</th>\n",
       "    </tr>\n",
       "  </thead>\n",
       "  <tbody>\n",
       "    <tr>\n",
       "      <th>0</th>\n",
       "      <td>1</td>\n",
       "      <td>Goroka Airport</td>\n",
       "      <td>Goroka</td>\n",
       "      <td>Papua New Guinea</td>\n",
       "      <td>GKA</td>\n",
       "      <td>AYGA</td>\n",
       "      <td>-6.081690</td>\n",
       "      <td>145.391998</td>\n",
       "      <td>5282</td>\n",
       "      <td>10</td>\n",
       "      <td>U</td>\n",
       "      <td>Pacific/Port_Moresby</td>\n",
       "      <td>airport</td>\n",
       "      <td>OurAirports</td>\n",
       "      <td>0</td>\n",
       "    </tr>\n",
       "    <tr>\n",
       "      <th>1</th>\n",
       "      <td>2</td>\n",
       "      <td>Madang Airport</td>\n",
       "      <td>Madang</td>\n",
       "      <td>Papua New Guinea</td>\n",
       "      <td>MAG</td>\n",
       "      <td>AYMD</td>\n",
       "      <td>-5.207080</td>\n",
       "      <td>145.789001</td>\n",
       "      <td>20</td>\n",
       "      <td>10</td>\n",
       "      <td>U</td>\n",
       "      <td>Pacific/Port_Moresby</td>\n",
       "      <td>airport</td>\n",
       "      <td>OurAirports</td>\n",
       "      <td>1</td>\n",
       "    </tr>\n",
       "    <tr>\n",
       "      <th>2</th>\n",
       "      <td>3</td>\n",
       "      <td>Mount Hagen Kagamuga Airport</td>\n",
       "      <td>Mount Hagen</td>\n",
       "      <td>Papua New Guinea</td>\n",
       "      <td>HGU</td>\n",
       "      <td>AYMH</td>\n",
       "      <td>-5.826790</td>\n",
       "      <td>144.296005</td>\n",
       "      <td>5388</td>\n",
       "      <td>10</td>\n",
       "      <td>U</td>\n",
       "      <td>Pacific/Port_Moresby</td>\n",
       "      <td>airport</td>\n",
       "      <td>OurAirports</td>\n",
       "      <td>2</td>\n",
       "    </tr>\n",
       "    <tr>\n",
       "      <th>3</th>\n",
       "      <td>4</td>\n",
       "      <td>Nadzab Airport</td>\n",
       "      <td>Nadzab</td>\n",
       "      <td>Papua New Guinea</td>\n",
       "      <td>LAE</td>\n",
       "      <td>AYNZ</td>\n",
       "      <td>-6.569803</td>\n",
       "      <td>146.725977</td>\n",
       "      <td>239</td>\n",
       "      <td>10</td>\n",
       "      <td>U</td>\n",
       "      <td>Pacific/Port_Moresby</td>\n",
       "      <td>airport</td>\n",
       "      <td>OurAirports</td>\n",
       "      <td>3</td>\n",
       "    </tr>\n",
       "  </tbody>\n",
       "</table>\n",
       "</div>"
      ],
      "text/plain": [
       "   Airport ID                          Name         City           Country  \\\n",
       "0           1                Goroka Airport       Goroka  Papua New Guinea   \n",
       "1           2                Madang Airport       Madang  Papua New Guinea   \n",
       "2           3  Mount Hagen Kagamuga Airport  Mount Hagen  Papua New Guinea   \n",
       "3           4                Nadzab Airport       Nadzab  Papua New Guinea   \n",
       "\n",
       "  IATA  ICAO  Latitude   Longitude  Altitude Timezone DST  \\\n",
       "0  GKA  AYGA -6.081690  145.391998      5282       10   U   \n",
       "1  MAG  AYMD -5.207080  145.789001        20       10   U   \n",
       "2  HGU  AYMH -5.826790  144.296005      5388       10   U   \n",
       "3  LAE  AYNZ -6.569803  146.725977       239       10   U   \n",
       "\n",
       "        Tz db time zone     Type       Source  newidx  \n",
       "0  Pacific/Port_Moresby  airport  OurAirports       0  \n",
       "1  Pacific/Port_Moresby  airport  OurAirports       1  \n",
       "2  Pacific/Port_Moresby  airport  OurAirports       2  \n",
       "3  Pacific/Port_Moresby  airport  OurAirports       3  "
      ]
     },
     "execution_count": 92,
     "metadata": {},
     "output_type": "execute_result"
    }
   ],
   "source": [
    "airports_ds = pd.read_csv('data/airports.dat', header = None, encoding='utf-8', names = [\"Airport ID\", \"Name\"\n",
    "                                                                                         , \"City\", \"Country\", \n",
    "                              \"IATA\", \"ICAO\", \"Latitude\", \"Longitude\", \"Altitude\", \n",
    "                              \"Timezone\", \"DST\", \"Tz db time zone\", \"Type\", \"Source\"])\n",
    "#airports_ds['newidx'] = airports_ds.index\n",
    "\n",
    "routes = pd.read_csv('data/routes.dat', sep=',', encoding='utf-8', engine='python', \n",
    "                     names = [\"Airline\", \"Airline_ID\", \"Source_airport\", \"Source_airport_ID\", \n",
    "                              \"Destination_airport\", \"Destination_airport_ID\", \"Codeshare\", \"Stops\", \"Equipment\"]\n",
    "                     , na_values=['\\\\N'])\n",
    "\n",
    "# We only keep the \"active\" airports for our nodes\n",
    "airports = pd.concat([routes[\"Source_airport_ID\"],routes[\"Destination_airport_ID\"]], axis=0)\n",
    "airports = airports.drop_duplicates()\n",
    "\n",
    "features = airports_ds[airports_ds['Airport ID'].isin(airports)]\n",
    "\n",
    "features = features.set_index(pd.Series(range(len(features))))\n",
    "features = features.assign(newidx=pd.Series(range(len(features))).values)\n",
    "\n",
    "\n",
    "print(\"Number of airports in the airports.dat file:\", len(airports_ds))\n",
    "print(\"Number of \\\"active\\\" airports in the routes.dat file:\", len(features))\n",
    "features.head(4)"
   ]
  },
  {
   "cell_type": "markdown",
   "metadata": {},
   "source": [
    "**Comments:** <br>\n",
    "We have noticed that in there are lots of airports in the airports.dat file, which don't appear in the routes.dat file, i.e. they are connected to nothing. We have decided to remove those nodes from our dataframe and not use them. <br>\n",
    "The \"newidx\" is used later, for computing the adjacency matrix."
   ]
  },
  {
   "cell_type": "markdown",
   "metadata": {},
   "source": [
    "### B. Create the adjacency matrix of your network."
   ]
  },
  {
   "cell_type": "markdown",
   "metadata": {},
   "source": [
    "Remember that there are edges connecting the attributed nodes that you organized in the dataframe above. The connectivity of the network is captured by the adjacency matrix $W$. If $N$ is the number of nodes, the adjacency matrix is an $N \\times N$ matrix where the value of $W(i,j)$ is the weight of the edge connecting node $i$ to node $j$.  \n",
    "\n",
    "There are two possible scenarios for your adjacency matrix construction, as you already learned in the tutorial by Benjamin:\n",
    "\n",
    "1) The edges are given to you explicitly. In this case you should simply load the file containing the edge information and parse it in order to create your adjacency matrix. See how to do that in the  [graph from edge list]() demo.\n",
    "\n",
    "2) The edges are not given to you. In that case you will have to create a feature graph. In order to do that you will have to chose a distance that will quantify how similar two nodes are based on the values in their corresponding feature vectors. In the [graph from features]() demo Benjamin showed you how to build feature graphs when using Euclidean distances between feature vectors. Be curious and explore other distances as well! For instance, in the case of high-dimensional feature vectors, you might want to consider using the cosine distance. Once you compute the distances between your nodes you will have a fully connected network. Do not forget to sparsify by keeping the most important edges in your network.\n",
    "\n",
    "Follow the appropriate steps for the construction of the adjacency matrix of your network and provide it in the Numpy array ``adjacency`` below: "
   ]
  },
  {
   "cell_type": "code",
   "execution_count": 93,
   "metadata": {},
   "outputs": [],
   "source": [
    "# CREATING DATAFRAME OF DESTINATION AND SOURCE IATA FOR EACH ROUTE WITH ALL THE ACTIVE AIRPORTS\n",
    "idx_IATA = features[['IATA', 'newidx']]\n",
    "routes_srcdest = routes[['Source_airport', 'Destination_airport']]\n",
    "\n",
    "# Left join because we preserve the airports from routes, even if you don't have features on them\n",
    "idx_src = routes_srcdest.merge(right=idx_IATA, how='left', left_on='Source_airport', right_on='IATA')\n",
    "idx_src_dest = idx_src.merge(right=idx_IATA, how='left', left_on='Destination_airport', right_on='IATA', suffixes=['_src', '_dest']).drop(columns=[\"IATA_src\", \"IATA_dest\"])"
   ]
  },
  {
   "cell_type": "code",
   "execution_count": 94,
   "metadata": {},
   "outputs": [
    {
     "data": {
      "text/plain": [
       "20"
      ]
     },
     "execution_count": 94,
     "metadata": {},
     "output_type": "execute_result"
    }
   ],
   "source": [
    "n_nodes = len(features)\n",
    "adjacency = np.zeros((n_nodes, n_nodes), dtype=int)\n",
    "unweight_adj = np.zeros((n_nodes, n_nodes), dtype=int)\n",
    "\n",
    "for idx, row in idx_src_dest.iterrows():\n",
    "    #if pd.isnull(row.Destination_airport_ID) or pd.isnull(row.Source_airport_ID):\n",
    "    #    continue\n",
    "    if pd.isnull(row.newidx_src) or pd.isnull(row.newidx_dest):\n",
    "        continue\n",
    "    i, j = int(row.newidx_src), int(row.newidx_dest)\n",
    "    #print(\"i:\",i,\"j:\",j)\n",
    "    unweight_adj[i, j] = 1\n",
    "    \n",
    "    adjacency[i, j] = adjacency[i, j] + 1\n",
    "    #adjacency[j, i] = adjacency[j, i] + 1\n",
    "\n",
    "adjacency.max()"
   ]
  },
  {
   "cell_type": "markdown",
   "metadata": {},
   "source": [
    "**Comments :** <br>\n",
    "We have noticed that, in the constructed adjacency matrix, their are still some nodes which are connected to nothing (see cell below) : the sum of their row and columns is zero, i.e. they are neither source nor destination of any route. <br>\n",
    "This comes from the fact that some routes in the route dataset link these airports to airports wich are not in the airports dataset. Therefore we have no information on these nodes. <br>\n",
    "We have decided to remove them from our network for that reason. We also need to recompute the _newidx_ of these nodes, in the _features_ dataframe."
   ]
  },
  {
   "cell_type": "code",
   "execution_count": 95,
   "metadata": {},
   "outputs": [
    {
     "name": "stdout",
     "output_type": "stream",
     "text": [
      "The following values are indices of airports which are connected to nothing :\n",
      "[1522, 1523, 2643, 3027, 3029, 3040, 3088]\n",
      "\n",
      "Theses airports are the following:\n",
      "     IATA              City         Country\n",
      "1522  RJA       Rajahmundry           India\n",
      "1523  TIR          Tirupeti           India\n",
      "2643  LPS             Lopez   United States\n",
      "3027  AKI             Akiak   United States\n",
      "3029  TKJ               Tok   United States\n",
      "3040  SPB  Charlotte Amalie  Virgin Islands\n",
      "3088  AGM      Angmagssalik       Greenland\n"
     ]
    }
   ],
   "source": [
    "a = adjacency.sum(axis=1)\n",
    "b = adjacency.sum(axis=0)\n",
    "\n",
    "zero_in = np.argwhere(a==0)\n",
    "zero_out = np.argwhere(b==0)\n",
    "\n",
    "print(\"The following values are indices of airports which are connected to nothing :\")\n",
    "no_connection = []\n",
    "for value in zero_in :\n",
    "    if np.isin(value[0],zero_out):\n",
    "        no_connection.append(value[0])\n",
    "print(no_connection)\n",
    "\n",
    "print(\"\\nTheses airports are the following:\")\n",
    "\n",
    "print(features.loc[features['newidx'].isin(no_connection), ['IATA', 'City', 'Country']])"
   ]
  },
  {
   "cell_type": "code",
   "execution_count": 96,
   "metadata": {},
   "outputs": [
    {
     "data": {
      "text/plain": [
       "3179"
      ]
     },
     "execution_count": 96,
     "metadata": {},
     "output_type": "execute_result"
    }
   ],
   "source": [
    "# CAREFULL, DON'T RUN THE CELLE SEVERAL TIMES OTHERWISE IT DROPS COLUMNS EACH TIME\n",
    "features = features.drop(features.index[no_connection])\n",
    "features = features.set_index(pd.Series(range(len(features))))\n",
    "features = features.assign(newidx=pd.Series(range(len(features))).values)"
   ]
  },
  {
   "cell_type": "code",
   "execution_count": 102,
   "metadata": {},
   "outputs": [
    {
     "name": "stdout",
     "output_type": "stream",
     "text": [
      "(3186, 3186)\n"
     ]
    }
   ],
   "source": [
    "np.delete(adjacency, no_connection, 0)\n",
    "np.delete(adjacency, no_connection, 1)\n",
    "\n",
    "print(adjacency.shape)"
   ]
  },
  {
   "cell_type": "markdown",
   "metadata": {},
   "source": [
    "**Comments:** <br>\n",
    "We have decided to create a weighted and an unweighted adjacency matrix at the same time in part 1, to make things easier for the following questions, when we don't care about the weights."
   ]
  },
  {
   "cell_type": "markdown",
   "metadata": {},
   "source": [
    "## Part 2"
   ]
  },
  {
   "cell_type": "markdown",
   "metadata": {},
   "source": [
    "Execute the cell below to plot the (weighted) adjacency matrix of your network."
   ]
  },
  {
   "cell_type": "code",
   "execution_count": 9,
   "metadata": {},
   "outputs": [
    {
     "data": {
      "text/plain": [
       "Text(0.5, 1.05, 'adjacency matrix')"
      ]
     },
     "execution_count": 9,
     "metadata": {},
     "output_type": "execute_result"
    },
    {
     "data": {
      "image/png": "[encoded data removed]",
      "text/plain": [
       "<Figure size 432x288 with 1 Axes>"
      ]
     },
     "metadata": {},
     "output_type": "display_data"
    }
   ],
   "source": [
    "plt.spy(adjacency, markersize=1)\n",
    "plt.title('adjacency matrix')"
   ]
  },
  {
   "cell_type": "markdown",
   "metadata": {},
   "source": [
    "### Question 1\n",
    "\n",
    "What is the maximum number of links $L_{max}$ in a network with $N$ nodes (where $N$ is the number of nodes in your network)? How many links $L$ are there in your collected network? Comment on the sparsity of your network."
   ]
  },
  {
   "cell_type": "code",
   "execution_count": 10,
   "metadata": {},
   "outputs": [
    {
     "name": "stdout",
     "output_type": "stream",
     "text": [
      "3186\n",
      "L = 36434\n",
      "L_max = 10147410\n",
      "sparsity : 0.003590472839867513\n"
     ]
    }
   ],
   "source": [
    "L = unweight_adj.sum()\n",
    "print(n_nodes)\n",
    "L_max = n_nodes*(n_nodes-1)\n",
    "sparsity = L/L_max\n",
    "\n",
    "print(\"L =\", L)\n",
    "print(\"L_max =\", L_max)\n",
    "print(\"sparsity :\", sparsity)"
   ]
  },
  {
   "cell_type": "markdown",
   "metadata": {},
   "source": [
    "**Answers:** <br>\n",
    "There are $L = 36434$ links in our network. <br>\n",
    "For a $N$ node directed network, the maximum number of links is : $L_{max} = {{N}\\choose{2}}*2 = 10147410$, because is represents the total number of possibilities for choosing two nodes among the $N$ (and drawing a link between them), in each direction. $L_{max}$ is reached if every node is connected with every other one in the network, in both directions (such a graph is called _complete graph_). <br>\n",
    "Here $L << L_{max}$, so the network is sparse."
   ]
  },
  {
   "cell_type": "markdown",
   "metadata": {},
   "source": [
    "### Question 2\n",
    "\n",
    "Is your graph directed or undirected? If it is directed, convert it to an undirected graph by symmetrizing the adjacency matrix."
   ]
  },
  {
   "cell_type": "markdown",
   "metadata": {},
   "source": [
    "**Answer:** <br>\n",
    "Our graph is directed : each route has a source airport and a destination airport. However, by intuition we can guess that if there exist a flight route from an airport A to an airport B, there probably also exist a flight route from airport B to airport A. The shape of the adjacency matrix plotted at the beginning of part 2 seems to confirm that hypothesis, because it seems symmetric. Since this symmetric property is only intuition, we will still compute the adjacency matrix of the undirected graph (we will see later that the original graph was indeed not symmetric). <br>"
   ]
  },
  {
   "cell_type": "code",
   "execution_count": 11,
   "metadata": {},
   "outputs": [
    {
     "name": "stdout",
     "output_type": "stream",
     "text": [
      "Adjacency : \n",
      " [[0 1 1 1 2 0 0 0 0 0]\n",
      " [1 0 1 1 1 2 0 0 0 0]\n",
      " [1 1 0 1 2 2 0 0 0 0]\n",
      " [1 1 1 0 2 0 0 0 0 0]\n",
      " [2 1 2 2 0 1 0 0 0 0]\n",
      " [0 2 2 0 1 0 0 0 0 0]\n",
      " [0 0 0 0 0 0 0 1 1 0]\n",
      " [0 0 0 0 0 0 1 0 1 0]\n",
      " [0 0 0 0 0 0 1 1 0 0]\n",
      " [0 0 0 0 0 0 0 0 0 0]]\n",
      "\n",
      "Symmetric Adjacency : \n",
      " [[0 2 2 2 4 0 0 0 0 0]\n",
      " [2 0 2 2 2 4 0 0 0 0]\n",
      " [2 2 0 2 4 4 0 0 0 0]\n",
      " [2 2 2 0 4 0 0 0 0 0]\n",
      " [4 2 4 4 0 2 0 0 0 0]\n",
      " [0 4 4 0 2 0 0 0 0 0]\n",
      " [0 0 0 0 0 0 0 2 2 0]\n",
      " [0 0 0 0 0 0 2 0 2 0]\n",
      " [0 0 0 0 0 0 2 2 0 0]\n",
      " [0 0 0 0 0 0 0 0 0 0]]\n"
     ]
    }
   ],
   "source": [
    "undir_adj = adjacency + adjacency.T\n",
    "undir_unweight_adj = (unweight_adj + unweight_adj.T)/2\n",
    "print(\"Adjacency : \\n\", adjacency[0:10,0:10])\n",
    "print(\"\\nSymmetric Adjacency : \\n\", undir_adj[0:10,0:10])"
   ]
  },
  {
   "cell_type": "markdown",
   "metadata": {},
   "source": [
    "**Comments:** <br>\n",
    "For the undirected graph, we have chosen to consider the edge weights as being the sum of the edge weights in both directions from the directed graph. The new weights are the total number of airlines taking a route, disregarding in which direction.\n",
    "We have also chosen to build an unweighted symmetric adjacency matrix, to make things easier for the following questions (in particular when we need to use the node degree)."
   ]
  },
  {
   "cell_type": "markdown",
   "metadata": {},
   "source": [
    "### Question 3\n",
    "\n",
    "In the cell below save the features dataframe and the **symmetrized** adjacency matrix. You can use the Pandas ``to_csv`` to save the ``features`` and Numpy's ``save`` to save the ``adjacency``. We will reuse those in the following milestones."
   ]
  },
  {
   "cell_type": "code",
   "execution_count": 12,
   "metadata": {},
   "outputs": [],
   "source": [
    "# Check this ?\n",
    "np.save('data/adjacency_sym_mtx', undir_adj)\n",
    "routes.to_csv('data/features.csv')"
   ]
  },
  {
   "cell_type": "markdown",
   "metadata": {},
   "source": [
    "### Question 4\n",
    "\n",
    "Are the edges of your graph weighted?"
   ]
  },
  {
   "cell_type": "markdown",
   "metadata": {},
   "source": [
    "**Answer:** <br>\n",
    "The edges are weighted. The weights represent the number of airlines taking each route. If the same airline uses the route in both ways, then it will be counted twice. We will see later if it is relevant (or not) to check if the airlines are disctinct."
   ]
  },
  {
   "cell_type": "markdown",
   "metadata": {},
   "source": [
    "### Question 5\n",
    "\n",
    "What is the degree distibution of your network? "
   ]
  },
  {
   "cell_type": "code",
   "execution_count": 13,
   "metadata": {},
   "outputs": [
    {
     "data": {
      "text/plain": [
       "array([4. , 7. , 8.5, ..., 1. , 1. , 1. ])"
      ]
     },
     "execution_count": 13,
     "metadata": {},
     "output_type": "execute_result"
    }
   ],
   "source": [
    "degree = np.sum(undir_unweight_adj, axis = 0)\n",
    "degree"
   ]
  },
  {
   "cell_type": "markdown",
   "metadata": {},
   "source": [
    "Execute the cell below to see the histogram of the degree distribution."
   ]
  },
  {
   "cell_type": "code",
   "execution_count": 14,
   "metadata": {},
   "outputs": [
    {
     "data": {
      "image/png": "[encoded data removed]",
      "text/plain": [
       "<Figure size 432x288 with 1 Axes>"
      ]
     },
     "metadata": {},
     "output_type": "display_data"
    }
   ],
   "source": [
    "weights = np.ones_like(degree) / float(n_nodes)\n",
    "plt.hist(degree, weights=weights);"
   ]
  },
  {
   "cell_type": "markdown",
   "metadata": {},
   "source": [
    "What is the average degree?"
   ]
  },
  {
   "cell_type": "code",
   "execution_count": 15,
   "metadata": {},
   "outputs": [
    {
     "data": {
      "text/plain": [
       "11.43565599497803"
      ]
     },
     "execution_count": 15,
     "metadata": {},
     "output_type": "execute_result"
    }
   ],
   "source": [
    "av_degree=np.mean(degree)\n",
    "av_degree"
   ]
  },
  {
   "cell_type": "markdown",
   "metadata": {},
   "source": [
    "### Question 6\n",
    "\n",
    "Comment on the degree distribution of your network."
   ]
  },
  {
   "cell_type": "markdown",
   "metadata": {},
   "source": [
    "**Answer :** <br>\n",
    "The large majority of the nodes have degree between 0 and 25. There are however also some nodes which have a much higher degree as we can see on the histogram : some have degree between 50 and almost 200, and one has degree larger than 200. These are hubs. This is not a random network at all. No binomial distribution shape. It rather follows a power-law distribution"
   ]
  },
  {
   "cell_type": "markdown",
   "metadata": {},
   "source": [
    "### Question 7\n",
    "\n",
    "Write a function that takes as input the adjacency matrix of a graph and determines whether the graph is connected or not."
   ]
  },
  {
   "cell_type": "code",
   "execution_count": 16,
   "metadata": {},
   "outputs": [],
   "source": [
    "def connected_graph(adjacency):\n",
    "    \"\"\"Determines whether a graph is connected.\n",
    "    \n",
    "    Parameters\n",
    "    ----------\n",
    "    adjacency: numpy array\n",
    "        The (weighted) adjacency matrix of a graph.\n",
    "    \n",
    "    Returns\n",
    "    -------\n",
    "    bool\n",
    "        True if the graph is connected, False otherwise.\n",
    "    \"\"\"\n",
    "    visited = set()\n",
    "    dfs(adjacency, visited, 0)\n",
    "    return len(visited) == adjacency.shape[0]\n",
    "\n",
    "def dfs(adjacency, visited, row):\n",
    "    \"\"\"Performs a recursive DFS (depth-first search)\n",
    "    \n",
    "    Parameters\n",
    "    ----------\n",
    "    adjacency: numpy array\n",
    "        The weighted adjacency matrix of a graph\n",
    "    \n",
    "    visited: An unordered collection (set)\n",
    "        A set of all visited nodes\n",
    "    row: an integer\n",
    "        the row to check of the adjacency matrix\n",
    "        \n",
    "    Returns\n",
    "    -------\n",
    "    void\n",
    "        Fill the visited list. Note that a cleaner version can use tuple for immutability but consumes much more memory.\n",
    "    \n",
    "    \"\"\"\n",
    "    for idx, e in enumerate(adjacency[row]):\n",
    "        if e > 0 and idx not in visited:\n",
    "            visited.add(idx)\n",
    "            dfs(adjacency, visited, idx)"
   ]
  },
  {
   "cell_type": "markdown",
   "metadata": {},
   "source": [
    "Is your graph connected? Run the ``connected_graph`` function to determine your answer."
   ]
  },
  {
   "cell_type": "code",
   "execution_count": 17,
   "metadata": {},
   "outputs": [
    {
     "name": "stdout",
     "output_type": "stream",
     "text": [
      "Our graph is not connected.\n"
     ]
    }
   ],
   "source": [
    "if (connected_graph(adjacency)):\n",
    "    print(\"Our graph is connected !\")\n",
    "else:\n",
    "    print(\"Our graph is not connected.\")"
   ]
  },
  {
   "cell_type": "markdown",
   "metadata": {},
   "source": [
    "### Question 8\n",
    "\n",
    "Write a function that extracts the connected components of a graph."
   ]
  },
  {
   "cell_type": "code",
   "execution_count": 18,
   "metadata": {},
   "outputs": [],
   "source": [
    "def bfs(adjacency, node):\n",
    "    \"\"\"Performs an iterative BFS (breadth-first search)\n",
    "    \n",
    "    Parameters\n",
    "    ----------\n",
    "    adjacency: numpy array\n",
    "        The weighted adjacency matrix of a graph\n",
    "    \n",
    "    node: an integer\n",
    "        the row to check of the adjacency matrix\n",
    "        \n",
    "    Returns\n",
    "    -------\n",
    "    numpy array\n",
    "        An array of indices of a set of nodes connected together (i.e. a component)\n",
    "    \n",
    "    \"\"\"\n",
    "\n",
    "    queue = [node]\n",
    "    belonging = [node] #SET?\n",
    "    while queue:\n",
    "        for idx, e in enumerate(adjacency[queue.pop(0)]):\n",
    "            if e > 0 and idx not in belonging:\n",
    "                belonging.append(idx)\n",
    "                queue.append(idx)\n",
    "    \n",
    "    return np.array(belonging)\n",
    "        \n",
    "def find_components(adjacency):\n",
    "    \"\"\"Find the connected components of a graph.\n",
    "    \n",
    "    Parameters\n",
    "    ----------\n",
    "    adjacency: numpy array\n",
    "        The (weighted) adjacency matrix of a graph.\n",
    "    \n",
    "    Returns\n",
    "    -------\n",
    "    list of numpy arrays\n",
    "        A list of adjacency matrices, one per connected component.\n",
    "    \"\"\"\n",
    "    \n",
    "    # Assert the matrix is symmetric\n",
    "    assert np.array_equal(adjacency, adjacency.T), \"The adjacency matrix is not symmetric\"\n",
    "    label = 1\n",
    "    n_nodes = adjacency.shape[0]\n",
    "    \n",
    "    # Label each nodes with a '0'\n",
    "    testing_nodes = np.zeros(n_nodes, dtype=int)\n",
    "    next_candidate = 0\n",
    "    components = []\n",
    "    adj_matrices = []\n",
    "    \n",
    "    # NOTE, components keep track of ID's of each connected components. When doing a list of adj\n",
    "    # matrices, then we lose track of which node is which.\n",
    "    while np.count_nonzero(testing_nodes) < n_nodes:\n",
    "        # Look for the index of the next 0 value. It exists thanks to the condition of the while just above\n",
    "        next_candidate = np.argmin(testing_nodes)\n",
    "        # Store the indices of a component\n",
    "        components.append(bfs(adjacency, next_candidate))\n",
    "        # Labelize theses indices\n",
    "        testing_nodes[components[-1]] = label\n",
    "        label += 1\n",
    "        # Construct an adjacency matrix using the indices found\n",
    "        adj = adjacency[components[-1]]\n",
    "        adj = adj[:, components[-1]]\n",
    "        # Assert the new adjacency matrix is symmetric\n",
    "        assert np.array_equal(adj, adj.T), \"an adjacency matrix was not symmetric\"\n",
    "        # This line is not required, but could be useful to keep track\n",
    "        #adj = np.insert(adj, 0, components[-1], axis=0)\n",
    "        adj_matrices.append(adj)\n",
    "        \n",
    "    \n",
    "    return adj_matrices"
   ]
  },
  {
   "cell_type": "markdown",
   "metadata": {},
   "source": [
    "How many connected components is your network composed of? What is the size of the largest connected component? Run the ``find_components`` function to determine your answer. "
   ]
  },
  {
   "cell_type": "code",
   "execution_count": 20,
   "metadata": {},
   "outputs": [],
   "source": [
    "components = find_components(undir_adj)\n",
    "nb_comp = len(components)"
   ]
  },
  {
   "cell_type": "markdown",
   "metadata": {},
   "source": [
    "### Question 9\n",
    "\n",
    "Write a function that takes as input the adjacency matrix and a node (`source`) and returns the length of the shortest path between that node and all nodes in the graph using Dijkstra's algorithm. **For the purposes of this assignment we are interested in the hop distance between nodes, not in the sum of weights. **\n",
    "\n",
    "Hint: You might want to mask the adjacency matrix in the function ``compute_shortest_path_lengths`` in order to make sure you obtain a binary adjacency matrix. "
   ]
  },
  {
   "cell_type": "code",
   "execution_count": 21,
   "metadata": {},
   "outputs": [],
   "source": [
    "def compute_shortest_path_lengths(adjacency, source):\n",
    "    \"\"\"Compute the shortest path length between a source node and all nodes.\n",
    "    \n",
    "    Parameters\n",
    "    ----------\n",
    "    adjacency: numpy array\n",
    "        The (weighted) adjacency matrix of a graph.\n",
    "    source: int\n",
    "        The source node. A number between 0 and n_nodes-1.\n",
    "    \n",
    "    Returns\n",
    "    -------\n",
    "    list of ints\n",
    "        The length of the shortest path from source to all nodes. Returned list should be of length n_nodes.\n",
    "    \"\"\"\n",
    "    \n",
    "    # Your code here.\n",
    "    \n",
    "    # (AP)\n",
    "    # Dijkstra algorithm\n",
    "    # we assume that adjacency is connected, otherwise the result will have another length\n",
    "    P = set()\n",
    "    n_nodes = adjacency.shape[0]\n",
    "    d = [np.inf] * n_nodes\n",
    "    d[source] = 0\n",
    "    \n",
    "    while len(P) < n_nodes:\n",
    "\n",
    "        # take a node not yet visited with smallest distance\n",
    "        new_nodes = list((set(range(n_nodes)) - P))\n",
    "        values = [d[n] for n in new_nodes]\n",
    "        min_distance_node = new_nodes[values.index(min(values))]\n",
    "        \n",
    "        # add it to P\n",
    "        P.add(min_distance_node)\n",
    "        \n",
    "        # get the neighbors of this node which are not in P\n",
    "        neighbors = [n for n in range(n_nodes) if not n in P and adjacency[min_distance_node, n] > 0]\n",
    "        \n",
    "        # update the neighbors if the new path is better than the previous solution\n",
    "        for neighbor in neighbors:\n",
    "            new_path = d[min_distance_node] + 1 # to use the weighted graph, remplace '+1' by  '+row[neighbor]'\n",
    "            d[neighbor] = min(d[neighbor], new_path)\n",
    "    return d"
   ]
  },
  {
   "cell_type": "code",
   "execution_count": 23,
   "metadata": {},
   "outputs": [
    {
     "name": "stdout",
     "output_type": "stream",
     "text": [
      "[0, 1, 1, 1, 1, 2, 5, 5, 4, 8, 7, 7, 7, 4, 6, 4, 5, 5, 5, 6, 4, 4, 5, 4, 4, 5, 5, 6, 6, 4, 4, 4, 6, 6, 5, 4, 5, 5, 4, 5, 5, 5, 5, 6, 5, 4, 5, 5, 4, 7, 5, 4, 4, 5, 4, 4, 4, 5, 6, 5, 4, 5, 6, 4, 5, 4, 4, 4, 5, 4, 4, 4, 4, 4, 4, 5, 4, 4, 7, 5, 4, 4, 5, 7, 6, 5, 4, 4, 7, 4, 6, 6, 5, 7, 5, 5, 5, 3, 4, 5, 4, 4, 4, 4, 4, 5, 6, 4, 4, 4, 4, 4, 4, 3, 4, 5, 4, 4, 5, 4, 5, 5, 4, 5, 5, 3, 4, 4, 4, 4, 5, 7, 5, 4, 5, 5, 4, 4, 5, 5, 5, 5, 4, 5, 5, 5, 6, 5, 5, 5, 5, 5, 6, 4, 4, 5, 4, 5, 5, 5, 4, 4, 5, 5, 4, 5, 5, 5, 5, 4, 4, 5, 5, 5, 4, 4, 4, 5, 5, 4, 4, 5, 4, 5, 4, 4, 5, 5, 4, 4, 5, 3, 4, 4, 4, 3, 3, 4, 4, 5]\n"
     ]
    }
   ],
   "source": [
    "shortest_path_from_idx = compute_shortest_path_lengths(undir_adj, 0)\n",
    "\n",
    "print(shortest_path_from_idx[:200])"
   ]
  },
  {
   "cell_type": "markdown",
   "metadata": {},
   "source": [
    "### Question 10\n",
    "\n",
    "The diameter of the graph is the length of the longest shortest path between any pair of nodes. Use the above developed function to compute the diameter of the graph (or the diameter of the largest connected component of the graph if the graph is not connected). If your graph (or largest connected component) is very large, computing the diameter will take very long. In that case downsample your graph so that it has 1.000 nodes. There are many ways to reduce the size of a graph. For the purposes of this milestone you can chose to randomly select 1.000 nodes. "
   ]
  },
  {
   "cell_type": "code",
   "execution_count": 30,
   "metadata": {
    "scrolled": true
   },
   "outputs": [],
   "source": [
    "mini_adj = undir_adj[:300,:300]\n",
    "\n",
    "diameter = 0\n",
    "\n",
    "for idx, val in enumerate(mini_adj[:, 0]):\n",
    "    shortest_path_from_idx = compute_shortest_path_lengths(mini_adj, idx)\n",
    "    max_ = np.nanmax(np.ma.masked_equal(shortest_path_from_idx, np.inf))\n",
    "    diameter = max(diameter, max_)\n"
   ]
  },
  {
   "cell_type": "code",
   "execution_count": 31,
   "metadata": {},
   "outputs": [
    {
     "name": "stdout",
     "output_type": "stream",
     "text": [
      "9.0\n"
     ]
    }
   ],
   "source": [
    "print(diameter)"
   ]
  },
  {
   "cell_type": "markdown",
   "metadata": {},
   "source": [
    "### Question 11\n",
    "\n",
    "Write a function that takes as input the adjacency matrix, a path length, and two nodes (`source` and `target`), and returns the number of paths of the given length between them."
   ]
  },
  {
   "cell_type": "code",
   "execution_count": 32,
   "metadata": {},
   "outputs": [],
   "source": [
    "def compute_paths(adjacency, source, target, length):\n",
    "    \"\"\"Compute the number of paths of a given length between a source and target node.\n",
    "    \n",
    "    Parameters\n",
    "    ----------\n",
    "    adjacency: numpy array\n",
    "        The (weighted) adjacency matrix of a graph.\n",
    "    source: int\n",
    "        The source node. A number between 0 and n_nodes-1.\n",
    "    target: int\n",
    "        The target node. A number between 0 and n_nodes-1.\n",
    "    length: int\n",
    "        The path length to be considered.\n",
    "    \n",
    "    Returns\n",
    "    -------\n",
    "    int\n",
    "        The number of paths.\n",
    "    \"\"\"\n",
    "    \n",
    "    adjacency_uw = adjacency\n",
    "    adjacency_uw[adjacency_uw > 0] = 1\n",
    "    \n",
    "    adjacency_pow = np.linalg.matrix_power(adjacency_uw, length)\n",
    "    n_paths = adjacency_pow[source, target]\n",
    "    \n",
    "    return n_paths"
   ]
  },
  {
   "cell_type": "markdown",
   "metadata": {},
   "source": [
    "Test your function on 5 pairs of nodes, with different lengths."
   ]
  },
  {
   "cell_type": "code",
   "execution_count": 34,
   "metadata": {},
   "outputs": [
    {
     "name": "stdout",
     "output_type": "stream",
     "text": [
      "0\n"
     ]
    },
    {
     "ename": "KeyboardInterrupt",
     "evalue": "",
     "output_type": "error",
     "traceback": [
      "\u001b[0;31m---------------------------------------------------------------------------\u001b[0m",
      "\u001b[0;31mKeyboardInterrupt\u001b[0m                         Traceback (most recent call last)",
      "\u001b[0;32m<ipython-input-34-c51814890c96>\u001b[0m in \u001b[0;36m<module>\u001b[0;34m()\u001b[0m\n\u001b[1;32m      1\u001b[0m \u001b[0mprint\u001b[0m\u001b[0;34m(\u001b[0m\u001b[0mcompute_paths\u001b[0m\u001b[0;34m(\u001b[0m\u001b[0mundir_adj\u001b[0m\u001b[0;34m,\u001b[0m \u001b[0;36m0\u001b[0m\u001b[0;34m,\u001b[0m \u001b[0;36m10\u001b[0m\u001b[0;34m,\u001b[0m \u001b[0;36m1\u001b[0m\u001b[0;34m)\u001b[0m\u001b[0;34m)\u001b[0m\u001b[0;34m\u001b[0m\u001b[0m\n\u001b[0;32m----> 2\u001b[0;31m \u001b[0mprint\u001b[0m\u001b[0;34m(\u001b[0m\u001b[0mcompute_paths\u001b[0m\u001b[0;34m(\u001b[0m\u001b[0mundir_adj\u001b[0m\u001b[0;34m,\u001b[0m \u001b[0;36m0\u001b[0m\u001b[0;34m,\u001b[0m \u001b[0;36m10\u001b[0m\u001b[0;34m,\u001b[0m \u001b[0;36m2\u001b[0m\u001b[0;34m)\u001b[0m\u001b[0;34m)\u001b[0m\u001b[0;34m\u001b[0m\u001b[0m\n\u001b[0m\u001b[1;32m      3\u001b[0m \u001b[0mprint\u001b[0m\u001b[0;34m(\u001b[0m\u001b[0mcompute_paths\u001b[0m\u001b[0;34m(\u001b[0m\u001b[0mundir_adj\u001b[0m\u001b[0;34m,\u001b[0m \u001b[0;36m0\u001b[0m\u001b[0;34m,\u001b[0m \u001b[0;36m10\u001b[0m\u001b[0;34m,\u001b[0m \u001b[0;36m3\u001b[0m\u001b[0;34m)\u001b[0m\u001b[0;34m)\u001b[0m\u001b[0;34m\u001b[0m\u001b[0m\n\u001b[1;32m      4\u001b[0m \u001b[0mprint\u001b[0m\u001b[0;34m(\u001b[0m\u001b[0mcompute_paths\u001b[0m\u001b[0;34m(\u001b[0m\u001b[0mundir_adj\u001b[0m\u001b[0;34m,\u001b[0m \u001b[0;36m23\u001b[0m\u001b[0;34m,\u001b[0m \u001b[0;36m67\u001b[0m\u001b[0;34m,\u001b[0m \u001b[0;36m2\u001b[0m\u001b[0;34m)\u001b[0m\u001b[0;34m)\u001b[0m\u001b[0;34m\u001b[0m\u001b[0m\n\u001b[1;32m      5\u001b[0m \u001b[0mprint\u001b[0m\u001b[0;34m(\u001b[0m\u001b[0mcompute_paths\u001b[0m\u001b[0;34m(\u001b[0m\u001b[0mundir_adj\u001b[0m\u001b[0;34m,\u001b[0m \u001b[0;36m15\u001b[0m\u001b[0;34m,\u001b[0m \u001b[0;36m93\u001b[0m\u001b[0;34m,\u001b[0m \u001b[0;36m4\u001b[0m\u001b[0;34m)\u001b[0m\u001b[0;34m)\u001b[0m\u001b[0;34m\u001b[0m\u001b[0m\n",
      "\u001b[0;32m<ipython-input-32-c17e775b72c9>\u001b[0m in \u001b[0;36mcompute_paths\u001b[0;34m(adjacency, source, target, length)\u001b[0m\n\u001b[1;32m     22\u001b[0m     \u001b[0madjacency_uw\u001b[0m\u001b[0;34m[\u001b[0m\u001b[0madjacency_uw\u001b[0m \u001b[0;34m>\u001b[0m \u001b[0;36m0\u001b[0m\u001b[0;34m]\u001b[0m \u001b[0;34m=\u001b[0m \u001b[0;36m1\u001b[0m\u001b[0;34m\u001b[0m\u001b[0m\n\u001b[1;32m     23\u001b[0m \u001b[0;34m\u001b[0m\u001b[0m\n\u001b[0;32m---> 24\u001b[0;31m     \u001b[0madjacency_pow\u001b[0m \u001b[0;34m=\u001b[0m \u001b[0mnp\u001b[0m\u001b[0;34m.\u001b[0m\u001b[0mlinalg\u001b[0m\u001b[0;34m.\u001b[0m\u001b[0mmatrix_power\u001b[0m\u001b[0;34m(\u001b[0m\u001b[0madjacency_uw\u001b[0m\u001b[0;34m,\u001b[0m \u001b[0mlength\u001b[0m\u001b[0;34m)\u001b[0m\u001b[0;34m\u001b[0m\u001b[0m\n\u001b[0m\u001b[1;32m     25\u001b[0m     \u001b[0mn_paths\u001b[0m \u001b[0;34m=\u001b[0m \u001b[0madjacency_pow\u001b[0m\u001b[0;34m[\u001b[0m\u001b[0msource\u001b[0m\u001b[0;34m,\u001b[0m \u001b[0mtarget\u001b[0m\u001b[0;34m]\u001b[0m\u001b[0;34m\u001b[0m\u001b[0m\n\u001b[1;32m     26\u001b[0m \u001b[0;34m\u001b[0m\u001b[0m\n",
      "\u001b[0;32m/anaconda3/envs/ntds_2018/lib/python3.7/site-packages/numpy/linalg/linalg.py\u001b[0m in \u001b[0;36mmatrix_power\u001b[0;34m(a, n)\u001b[0m\n\u001b[1;32m    631\u001b[0m \u001b[0;34m\u001b[0m\u001b[0m\n\u001b[1;32m    632\u001b[0m     \u001b[0;32melif\u001b[0m \u001b[0mn\u001b[0m \u001b[0;34m==\u001b[0m \u001b[0;36m2\u001b[0m\u001b[0;34m:\u001b[0m\u001b[0;34m\u001b[0m\u001b[0m\n\u001b[0;32m--> 633\u001b[0;31m         \u001b[0;32mreturn\u001b[0m \u001b[0mfmatmul\u001b[0m\u001b[0;34m(\u001b[0m\u001b[0ma\u001b[0m\u001b[0;34m,\u001b[0m \u001b[0ma\u001b[0m\u001b[0;34m)\u001b[0m\u001b[0;34m\u001b[0m\u001b[0m\n\u001b[0m\u001b[1;32m    634\u001b[0m \u001b[0;34m\u001b[0m\u001b[0m\n\u001b[1;32m    635\u001b[0m     \u001b[0;32melif\u001b[0m \u001b[0mn\u001b[0m \u001b[0;34m==\u001b[0m \u001b[0;36m3\u001b[0m\u001b[0;34m:\u001b[0m\u001b[0;34m\u001b[0m\u001b[0m\n",
      "\u001b[0;31mKeyboardInterrupt\u001b[0m: "
     ]
    }
   ],
   "source": [
    "print(compute_paths(undir_adj, 0, 10, 1))\n",
    "print(compute_paths(undir_adj, 0, 10, 2))\n",
    "print(compute_paths(undir_adj, 0, 10, 3))\n",
    "print(compute_paths(undir_adj, 23, 67, 2))\n",
    "print(compute_paths(undir_adj, 15, 93, 4))"
   ]
  },
  {
   "cell_type": "markdown",
   "metadata": {},
   "source": [
    "### Question 12\n",
    "\n",
    "How many paths of length 3 are there in your graph? Hint: calling the `compute_paths` function on every pair of node is not an efficient way to do it."
   ]
  },
  {
   "cell_type": "code",
   "execution_count": 35,
   "metadata": {},
   "outputs": [
    {
     "data": {
      "text/plain": [
       "38024306.75"
      ]
     },
     "execution_count": 35,
     "metadata": {},
     "output_type": "execute_result"
    }
   ],
   "source": [
    "#adjacency_uw = undir_adj\n",
    "#adjacency_uw[adjacency_uw > 0] = 1  # unweighted adjacency matrix\n",
    "\n",
    "#adjacency_pow = np.linalg.matrix_power(adjacency_uw[0:1000, 0:1000], 3)\n",
    "adjacency_pow = np.linalg.matrix_power(undir_unweight_adj[0:1000, 0:1000], 3)\n",
    "\n",
    "np.sum(adjacency_pow)"
   ]
  },
  {
   "cell_type": "markdown",
   "metadata": {},
   "source": [
    "### Question 13\n",
    "\n",
    "Write a function that takes as input the adjacency matrix of your graph (or of the largest connected component of your graph) and a node and returns the clustering coefficient of that node. "
   ]
  },
  {
   "cell_type": "code",
   "execution_count": 36,
   "metadata": {},
   "outputs": [],
   "source": [
    "def compute_clustering_coefficient(adjacency, node):\n",
    "    \"\"\"Compute the clustering coefficient of a node.\n",
    "    \n",
    "    Parameters\n",
    "    ----------\n",
    "    adjacency: numpy array\n",
    "        The (weighted) adjacency matrix of a graph.\n",
    "    node: int\n",
    "        The node whose clustering coefficient will be computed. A number between 0 and n_nodes-1.\n",
    "    \n",
    "    Returns\n",
    "    -------\n",
    "    float\n",
    "        The clustering coefficient of the node. A number between 0 and 1.\n",
    "    \"\"\"\n",
    "  \n",
    "    n_nodes = adjacency.shape[0]\n",
    "    neighbors = [n for n in range(n_nodes) if adjacency[node, n] > 0]\n",
    "    n_neighbors = len(neighbors)\n",
    "    \n",
    "    # if only 0 or 1 neighbor, return 0\n",
    "    if n_neighbors < 2:\n",
    "        return 0\n",
    "    \n",
    "    # count (twice) every connection between neighbors\n",
    "    neighbor_connections = 0\n",
    "    for x in neighbors:\n",
    "        for y in neighbors:\n",
    "            if x != y and adjacency[x, y] > 0:\n",
    "                neighbor_connections += 1\n",
    "\n",
    "    return neighbor_connections/( n_neighbors * (n_neighbors-1) )"
   ]
  },
  {
   "cell_type": "code",
   "execution_count": 37,
   "metadata": {},
   "outputs": [
    {
     "data": {
      "text/plain": [
       "1.0"
      ]
     },
     "execution_count": 37,
     "metadata": {},
     "output_type": "execute_result"
    }
   ],
   "source": [
    "node = 0\n",
    "compute_clustering_coefficient(undir_adj, node)"
   ]
  },
  {
   "cell_type": "markdown",
   "metadata": {},
   "source": [
    "### Question 14\n",
    "\n",
    "What is the average clustering coefficient of your graph (or of the largest connected component of your graph if your graph is disconnected)? Use the function ``compute_clustering_coefficient`` to determine your answer."
   ]
  },
  {
   "cell_type": "code",
   "execution_count": 38,
   "metadata": {},
   "outputs": [
    {
     "name": "stdout",
     "output_type": "stream",
     "text": [
      "0.4895117986404708\n"
     ]
    }
   ],
   "source": [
    "mean = 0\n",
    "for idx, node in enumerate(undir_adj[0]):\n",
    "    mean += compute_clustering_coefficient(undir_adj, idx)\n",
    "    \n",
    "mean_clust_coeff = mean / undir_adj.shape[0]\n",
    "print(mean_clust_coeff)"
   ]
  },
  {
   "cell_type": "code",
   "execution_count": null,
   "metadata": {},
   "outputs": [],
   "source": []
  }
 ],
 "metadata": {
  "kernelspec": {
   "display_name": "Python 3",
   "language": "python",
   "name": "python3"
  },
  "language_info": {
   "codemirror_mode": {
    "name": "ipython",
    "version": 3
   },
   "file_extension": ".py",
   "mimetype": "text/x-python",
   "name": "python",
   "nbconvert_exporter": "python",
   "pygments_lexer": "ipython3",
   "version": "3.7.0"
  }
 },
 "nbformat": 4,
 "nbformat_minor": 2
}
