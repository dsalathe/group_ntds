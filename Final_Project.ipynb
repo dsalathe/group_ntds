{
 "cells": [
  {
   "cell_type": "markdown",
   "metadata": {},
   "source": [
    "# Final project"
   ]
  },
  {
   "cell_type": "markdown",
   "metadata": {},
   "source": [
    "## Loading data"
   ]
  },
  {
   "cell_type": "code",
   "execution_count": 11,
   "metadata": {},
   "outputs": [],
   "source": [
    "%matplotlib inline\n",
    "import numpy as np\n",
    "import matplotlib.pyplot as plt\n",
    "import pandas as pd\n",
    "import networkx as nx\n"
   ]
  },
  {
   "cell_type": "code",
   "execution_count": 4,
   "metadata": {},
   "outputs": [
    {
     "name": "stdout",
     "output_type": "stream",
     "text": [
      "Number of airports in the airports.dat file: 7184\n",
      "Number of \"active\" airports in the routes.dat file: 3186\n"
     ]
    },
    {
     "data": {
      "text/html": [
       "<div>\n",
       "<style scoped>\n",
       "    .dataframe tbody tr th:only-of-type {\n",
       "        vertical-align: middle;\n",
       "    }\n",
       "\n",
       "    .dataframe tbody tr th {\n",
       "        vertical-align: top;\n",
       "    }\n",
       "\n",
       "    .dataframe thead th {\n",
       "        text-align: right;\n",
       "    }\n",
       "</style>\n",
       "<table border=\"1\" class=\"dataframe\">\n",
       "  <thead>\n",
       "    <tr style=\"text-align: right;\">\n",
       "      <th></th>\n",
       "      <th>Airport ID</th>\n",
       "      <th>Name</th>\n",
       "      <th>City</th>\n",
       "      <th>Country</th>\n",
       "      <th>IATA</th>\n",
       "      <th>ICAO</th>\n",
       "      <th>Latitude</th>\n",
       "      <th>Longitude</th>\n",
       "      <th>Altitude</th>\n",
       "      <th>Timezone</th>\n",
       "      <th>DST</th>\n",
       "      <th>Tz db time zone</th>\n",
       "      <th>Type</th>\n",
       "      <th>Source</th>\n",
       "      <th>newidx</th>\n",
       "    </tr>\n",
       "  </thead>\n",
       "  <tbody>\n",
       "    <tr>\n",
       "      <th>0</th>\n",
       "      <td>1</td>\n",
       "      <td>Goroka Airport</td>\n",
       "      <td>Goroka</td>\n",
       "      <td>Papua New Guinea</td>\n",
       "      <td>GKA</td>\n",
       "      <td>AYGA</td>\n",
       "      <td>-6.081690</td>\n",
       "      <td>145.391998</td>\n",
       "      <td>5282</td>\n",
       "      <td>10</td>\n",
       "      <td>U</td>\n",
       "      <td>Pacific/Port_Moresby</td>\n",
       "      <td>airport</td>\n",
       "      <td>OurAirports</td>\n",
       "      <td>0</td>\n",
       "    </tr>\n",
       "    <tr>\n",
       "      <th>1</th>\n",
       "      <td>2</td>\n",
       "      <td>Madang Airport</td>\n",
       "      <td>Madang</td>\n",
       "      <td>Papua New Guinea</td>\n",
       "      <td>MAG</td>\n",
       "      <td>AYMD</td>\n",
       "      <td>-5.207080</td>\n",
       "      <td>145.789001</td>\n",
       "      <td>20</td>\n",
       "      <td>10</td>\n",
       "      <td>U</td>\n",
       "      <td>Pacific/Port_Moresby</td>\n",
       "      <td>airport</td>\n",
       "      <td>OurAirports</td>\n",
       "      <td>1</td>\n",
       "    </tr>\n",
       "    <tr>\n",
       "      <th>2</th>\n",
       "      <td>3</td>\n",
       "      <td>Mount Hagen Kagamuga Airport</td>\n",
       "      <td>Mount Hagen</td>\n",
       "      <td>Papua New Guinea</td>\n",
       "      <td>HGU</td>\n",
       "      <td>AYMH</td>\n",
       "      <td>-5.826790</td>\n",
       "      <td>144.296005</td>\n",
       "      <td>5388</td>\n",
       "      <td>10</td>\n",
       "      <td>U</td>\n",
       "      <td>Pacific/Port_Moresby</td>\n",
       "      <td>airport</td>\n",
       "      <td>OurAirports</td>\n",
       "      <td>2</td>\n",
       "    </tr>\n",
       "    <tr>\n",
       "      <th>3</th>\n",
       "      <td>4</td>\n",
       "      <td>Nadzab Airport</td>\n",
       "      <td>Nadzab</td>\n",
       "      <td>Papua New Guinea</td>\n",
       "      <td>LAE</td>\n",
       "      <td>AYNZ</td>\n",
       "      <td>-6.569803</td>\n",
       "      <td>146.725977</td>\n",
       "      <td>239</td>\n",
       "      <td>10</td>\n",
       "      <td>U</td>\n",
       "      <td>Pacific/Port_Moresby</td>\n",
       "      <td>airport</td>\n",
       "      <td>OurAirports</td>\n",
       "      <td>3</td>\n",
       "    </tr>\n",
       "  </tbody>\n",
       "</table>\n",
       "</div>"
      ],
      "text/plain": [
       "   Airport ID                          Name         City           Country  \\\n",
       "0           1                Goroka Airport       Goroka  Papua New Guinea   \n",
       "1           2                Madang Airport       Madang  Papua New Guinea   \n",
       "2           3  Mount Hagen Kagamuga Airport  Mount Hagen  Papua New Guinea   \n",
       "3           4                Nadzab Airport       Nadzab  Papua New Guinea   \n",
       "\n",
       "  IATA  ICAO  Latitude   Longitude  Altitude Timezone DST  \\\n",
       "0  GKA  AYGA -6.081690  145.391998      5282       10   U   \n",
       "1  MAG  AYMD -5.207080  145.789001        20       10   U   \n",
       "2  HGU  AYMH -5.826790  144.296005      5388       10   U   \n",
       "3  LAE  AYNZ -6.569803  146.725977       239       10   U   \n",
       "\n",
       "        Tz db time zone     Type       Source  newidx  \n",
       "0  Pacific/Port_Moresby  airport  OurAirports       0  \n",
       "1  Pacific/Port_Moresby  airport  OurAirports       1  \n",
       "2  Pacific/Port_Moresby  airport  OurAirports       2  \n",
       "3  Pacific/Port_Moresby  airport  OurAirports       3  "
      ]
     },
     "execution_count": 4,
     "metadata": {},
     "output_type": "execute_result"
    }
   ],
   "source": [
    "airports_ds = pd.read_csv('data/airports.dat', header = None, encoding='utf-8', names = [\"Airport ID\", \"Name\"\n",
    "                                                                                         , \"City\", \"Country\", \n",
    "                              \"IATA\", \"ICAO\", \"Latitude\", \"Longitude\", \"Altitude\", \n",
    "                              \"Timezone\", \"DST\", \"Tz db time zone\", \"Type\", \"Source\"])\n",
    "routes = pd.read_csv('data/routes.dat', sep=',', encoding='utf-8', engine='python', \n",
    "                     names = [\"Airline\", \"Airline_ID\", \"Source_airport\", \"Source_airport_ID\", \n",
    "                              \"Destination_airport\", \"Destination_airport_ID\", \"Codeshare\", \"Stops\", \"Equipment\"]\n",
    "                     , na_values=['\\\\N'])\n",
    "\n",
    "# We only keep the \"active\" airports for our nodes\n",
    "airports = pd.concat([routes[\"Source_airport_ID\"],routes[\"Destination_airport_ID\"]], axis=0)\n",
    "airports = airports.drop_duplicates()\n",
    "\n",
    "features = airports_ds[airports_ds['Airport ID'].isin(airports)]\n",
    "\n",
    "features = features.set_index(pd.Series(range(len(features))))\n",
    "features = features.assign(newidx=pd.Series(range(len(features))).values)\n",
    "\n",
    "\n",
    "print(\"Number of airports in the airports.dat file:\", len(airports_ds))\n",
    "print(\"Number of \\\"active\\\" airports in the routes.dat file:\", len(features))\n",
    "features.head(4)"
   ]
  },
  {
   "cell_type": "code",
   "execution_count": 5,
   "metadata": {},
   "outputs": [],
   "source": [
    "# CREATING DATAFRAME OF DESTINATION AND SOURCE IATA FOR EACH ROUTE WITH ALL THE ACTIVE AIRPORTS\n",
    "idx_IATA = features[['IATA', 'newidx']]\n",
    "routes_srcdest = routes[['Source_airport', 'Destination_airport']]\n",
    "\n",
    "# Left join because we preserve the airports from routes, even if you don't have features on them\n",
    "idx_src = routes_srcdest.merge(right=idx_IATA, how='left', left_on='Source_airport', right_on='IATA')\n",
    "idx_src_dest = idx_src.merge(right=idx_IATA, how='left', left_on='Destination_airport', right_on='IATA', suffixes=['_src', '_dest']).drop(columns=[\"IATA_src\", \"IATA_dest\"])"
   ]
  },
  {
   "cell_type": "code",
   "execution_count": 6,
   "metadata": {},
   "outputs": [
    {
     "data": {
      "text/plain": [
       "20"
      ]
     },
     "execution_count": 6,
     "metadata": {},
     "output_type": "execute_result"
    }
   ],
   "source": [
    "n_nodes = len(features)\n",
    "adjacency = np.zeros((n_nodes, n_nodes), dtype=int)\n",
    "unweight_adj = np.zeros((n_nodes, n_nodes), dtype=int)\n",
    "\n",
    "for idx, row in idx_src_dest.iterrows():\n",
    "\n",
    "    if pd.isnull(row.newidx_src) or pd.isnull(row.newidx_dest):\n",
    "        continue\n",
    "    i, j = int(row.newidx_src), int(row.newidx_dest)\n",
    "\n",
    "    unweight_adj[i, j] = 1\n",
    "    \n",
    "    adjacency[i, j] = adjacency[i, j] + 1\n",
    "\n",
    "adjacency.max()"
   ]
  },
  {
   "cell_type": "code",
   "execution_count": 7,
   "metadata": {},
   "outputs": [
    {
     "name": "stdout",
     "output_type": "stream",
     "text": [
      "The following values are indices of airports which are connected to nothing :\n",
      "[1522, 1523, 2643, 3027, 3029, 3040, 3088]\n",
      "\n",
      "Theses airports are the following:\n",
      "     IATA              City         Country\n",
      "1522  RJA       Rajahmundry           India\n",
      "1523  TIR          Tirupeti           India\n",
      "2643  LPS             Lopez   United States\n",
      "3027  AKI             Akiak   United States\n",
      "3029  TKJ               Tok   United States\n",
      "3040  SPB  Charlotte Amalie  Virgin Islands\n",
      "3088  AGM      Angmagssalik       Greenland\n"
     ]
    }
   ],
   "source": [
    "a = adjacency.sum(axis=1)\n",
    "b = adjacency.sum(axis=0)\n",
    "\n",
    "zero_in = np.argwhere(a==0)\n",
    "zero_out = np.argwhere(b==0)\n",
    "\n",
    "print(\"The following values are indices of airports which are connected to nothing :\")\n",
    "no_connection = []\n",
    "\n",
    "for value in zero_in :\n",
    "    if np.isin(value[0],zero_out):\n",
    "        no_connection.append(value[0])\n",
    "        \n",
    "print(no_connection)\n",
    "\n",
    "print(\"\\nTheses airports are the following:\")\n",
    "\n",
    "print(features.loc[features['newidx'].isin(no_connection), ['IATA', 'City', 'Country']])"
   ]
  },
  {
   "cell_type": "code",
   "execution_count": 8,
   "metadata": {},
   "outputs": [],
   "source": [
    "# CAREFULL, DON'T RUN THIS CELL SEVERAL TIMES OTHERWISE IT DROPS COLUMNS EACH TIME\n",
    "features = features.drop(features.index[no_connection])\n",
    "features = features.set_index(pd.Series(range(len(features))))\n",
    "features = features.assign(newidx=pd.Series(range(len(features))).values)"
   ]
  },
  {
   "cell_type": "code",
   "execution_count": 9,
   "metadata": {},
   "outputs": [],
   "source": [
    "# CAREFULL, DON'T RUN THIS CELL SEVERAL TIMES OTHERWISE IT DELETES ROWS & COLUMNS EACH TIME\n",
    "adjacency = np.delete(adjacency, no_connection, 0)\n",
    "adjacency = np.delete(adjacency, no_connection, 1)\n",
    "unweight_adj = np.delete(unweight_adj, no_connection, 0)\n",
    "unweight_adj = np.delete(unweight_adj, no_connection, 1)"
   ]
  },
  {
   "cell_type": "markdown",
   "metadata": {},
   "source": [
    "Extract adjacency of largest component either by: <br>\n",
    "using point 8 of milestone 1 <br>\n",
    "using nx: create nx graph, extract largest components, find a way to keep track of which nodes belongs to which airports."
   ]
  },
  {
   "cell_type": "markdown",
   "metadata": {},
   "source": [
    "## Creates label(s)"
   ]
  },
  {
   "cell_type": "code",
   "execution_count": 12,
   "metadata": {},
   "outputs": [],
   "source": [
    "# 1. South-North\n",
    "# 2. Continent\n",
    "# 3. Laplacian clustering\n",
    "# 4. Degree of nodes (importance of airports)\n",
    "# 5. use you imagination!"
   ]
  },
  {
   "cell_type": "markdown",
   "metadata": {},
   "source": [
    "### Find hypothesis"
   ]
  },
  {
   "cell_type": "markdown",
   "metadata": {},
   "source": []
  }
 ],
 "metadata": {
  "kernelspec": {
   "display_name": "Python 3",
   "language": "python",
   "name": "python3"
  },
  "language_info": {
   "codemirror_mode": {
    "name": "ipython",
    "version": 3
   },
   "file_extension": ".py",
   "mimetype": "text/x-python",
   "name": "python",
   "nbconvert_exporter": "python",
   "pygments_lexer": "ipython3",
   "version": "3.7.0"
  }
 },
 "nbformat": 4,
 "nbformat_minor": 2
}
