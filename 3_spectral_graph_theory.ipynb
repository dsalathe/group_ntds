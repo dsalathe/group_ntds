{
 "cells": [
  {
   "cell_type": "markdown",
   "metadata": {},
   "source": [
    "# [NTDS'18] milestone 3: spectral graph theory\n",
    "[ntds'18]: https://github.com/mdeff/ntds_2018\n",
    "\n",
    "[Michaël Defferrard](http://deff.ch), [EPFL LTS2](https://lts2.epfl.ch)"
   ]
  },
  {
   "cell_type": "markdown",
   "metadata": {},
   "source": [
    "## Students\n",
    "\n",
    "* Team: `8`\n",
    "* Students: `Matyas Lustig, Aurélien Pomini, David Salathé, Justine Weber`\n",
    "* Dataset: `Flight Routes`"
   ]
  },
  {
   "cell_type": "markdown",
   "metadata": {},
   "source": [
    "## Rules\n",
    "\n",
    "* Milestones have to be completed by teams. No collaboration between teams is allowed.\n",
    "* Textual answers shall be short. Typically one to two sentences.\n",
    "* Code has to be clean.\n",
    "* You cannot import any other library than we imported.\n",
    "* When submitting, the notebook is executed and the results are stored. I.e., if you open the notebook again it should show numerical results and plots. We won't be able to execute your notebooks.\n",
    "* The notebook is re-executed from a blank state before submission. That is to be sure it is reproducible. You can click \"Kernel\" then \"Restart & Run All\" in Jupyter."
   ]
  },
  {
   "cell_type": "markdown",
   "metadata": {},
   "source": [
    "## Objective\n",
    "\n",
    "The goal of this milestone is to get familiar with the graph Laplacian and its spectral decomposition."
   ]
  },
  {
   "cell_type": "markdown",
   "metadata": {},
   "source": [
    "## 0 Load your network"
   ]
  },
  {
   "cell_type": "code",
   "execution_count": 1,
   "metadata": {},
   "outputs": [],
   "source": [
    "%matplotlib inline"
   ]
  },
  {
   "cell_type": "markdown",
   "metadata": {},
   "source": [
    "If you get a `No module named 'sklearn'` error when running the below cell, install [scikit-learn](https://scikit-learn.org) with `conda install scikit-learn` (after activating the `ntds_2018` environment)."
   ]
  },
  {
   "cell_type": "code",
   "execution_count": 2,
   "metadata": {},
   "outputs": [],
   "source": [
    "import numpy as np\n",
    "from scipy import sparse\n",
    "import scipy.sparse.linalg\n",
    "import matplotlib.pyplot as plt\n",
    "from sklearn.cluster import KMeans"
   ]
  },
  {
   "cell_type": "markdown",
   "metadata": {},
   "source": [
    "Let's denote your graph as $\\mathcal{G} = (\\mathcal{V}, \\mathcal{E}, A)$, where $\\mathcal{V}$ is the set of nodes, $\\mathcal{E}$ is the set of edges, $A \\in \\mathbb{R}^{N \\times N}$ is the (weighted) adjacency matrix, and $N = |\\mathcal{V}|$ is the number of nodes.\n",
    "\n",
    "Import the adjacency matrix $A$ that you constructed in the first milestone.\n",
    "(You're allowed to update it between milestones if you want to.)"
   ]
  },
  {
   "cell_type": "code",
   "execution_count": 3,
   "metadata": {},
   "outputs": [],
   "source": [
    "# We import both the weighted and unweighted symmetric adjacency matrices, and set the diagonal \n",
    "# to zero (remember that in Milestone 2 we found out that we had one self loop)\n",
    "\n",
    "# the unweighted adjacency matrix\n",
    "adjacency_uw =  np.load('data/adjacency_sym_mtx_uw.npy') \n",
    "\n",
    "# the weighted adjacency matrix\n",
    "adjacency =  np.load('data/adjacency_sym_mtx.npy')  \n",
    "\n",
    "# the number of nodes in the network\n",
    "n_nodes =  adjacency_uw.shape[0] \n",
    "\n",
    "# set diagonal elements to 0 (as explained in Milestone 2)\n",
    "adjacency_uw[np.diag_indices_from(adjacency_uw)] = 0 \n",
    "adjacency[np.diag_indices_from(adjacency)] = 0\n",
    "\n",
    "# the number of edges in the network\n",
    "n_edges =  adjacency_uw.sum() / 2 "
   ]
  },
  {
   "cell_type": "markdown",
   "metadata": {},
   "source": [
    "## 1 Graph Laplacian"
   ]
  },
  {
   "cell_type": "markdown",
   "metadata": {},
   "source": [
    "### Question 1\n",
    "\n",
    "From the (weighted) adjacency matrix $A$, compute both the combinatorial (also called unnormalized) and the normalized graph Laplacian matrices.\n",
    "\n",
    "Note: if your graph is weighted, use the weighted adjacency matrix. If not, use the binary adjacency matrix.\n",
    "\n",
    "For efficient storage and computation, store these sparse matrices in a [compressed sparse row (CSR) format](https://en.wikipedia.org/wiki/Sparse_matrix#Compressed_sparse_row_.28CSR.2C_CRS_or_Yale_format.29)."
   ]
  },
  {
   "cell_type": "code",
   "execution_count": 4,
   "metadata": {},
   "outputs": [],
   "source": [
    "# we use the weighted adjacency matrix (named adjacency)\n",
    "laplacian_combinatorial =  sparse.csgraph.laplacian(adjacency, normed=False).astype('float64')\n",
    "laplacian_normalized =  sparse.csgraph.laplacian(adjacency, normed=True)"
   ]
  },
  {
   "cell_type": "markdown",
   "metadata": {},
   "source": [
    "Use one of them as the graph Laplacian $L$ for the rest of the milestone.\n",
    "We however encourage you to run the code with both to get a sense of the difference!"
   ]
  },
  {
   "cell_type": "code",
   "execution_count": 5,
   "metadata": {},
   "outputs": [],
   "source": [
    "# Variable used in the rest of the milestone, to change easily between normalized and combinatorial\n",
    "laplacian = laplacian_combinatorial"
   ]
  },
  {
   "cell_type": "markdown",
   "metadata": {},
   "source": [
    "### Question 2\n",
    "\n",
    "Compute the eigendecomposition of the Laplacian $L = U^\\top \\Lambda U$, where the columns $u_k \\in \\mathbb{R}^N$ of $U = [u_1, \\dots, u_N] \\in \\mathbb{R}^{N \\times N}$ are the eigenvectors and the diagonal elements $\\lambda_k = \\Lambda_{kk}$ are the corresponding eigenvalues.\n",
    "\n",
    "Make sure that the eigenvalues are ordered, i.e., $0 = \\lambda_1 \\leq \\lambda_2 \\leq \\dots \\leq \\lambda_N$."
   ]
  },
  {
   "cell_type": "code",
   "execution_count": 22,
   "metadata": {},
   "outputs": [],
   "source": [
    "def is_sorted(a):\n",
    "    for i in range(a.size-1):\n",
    "         if a[i+1] < a[i] :\n",
    "               return False\n",
    "    return True"
   ]
  },
  {
   "cell_type": "code",
   "execution_count": 25,
   "metadata": {},
   "outputs": [],
   "source": [
    "eigenvalues, eigenvectors = scipy.linalg.eigh(laplacian)"
   ]
  },
  {
   "cell_type": "code",
   "execution_count": 26,
   "metadata": {},
   "outputs": [
    {
     "name": "stdout",
     "output_type": "stream",
     "text": [
      "Check sorted : True\n",
      "(3179, 3179)\n"
     ]
    }
   ],
   "source": [
    "print(\"Check sorted :\", is_sorted(eigenvalues))\n",
    "print(eigenvectors.shape)\n",
    "\n",
    "assert eigenvectors.shape == (n_nodes, n_nodes)"
   ]
  },
  {
   "cell_type": "code",
   "execution_count": 27,
   "metadata": {},
   "outputs": [
    {
     "name": "stdout",
     "output_type": "stream",
     "text": [
      "TRUE almost equal : 0\n",
      "TRUE almost equal : 1\n",
      "TRUE almost equal : 2\n",
      "TRUE almost equal : 3\n",
      "TRUE almost equal : 4\n",
      "TRUE almost equal : 5\n",
      "TRUE almost equal : 6\n"
     ]
    }
   ],
   "source": [
    "# We have used this code in order to check if the computation of the eigenvalues and eigenvectors \n",
    "# was correct and satisfied the property of eigenvalues/vectors\n",
    "idx = 1\n",
    "u = eigenvectors[:, idx]\n",
    "c = laplacian.dot(u)\n",
    "\n",
    "for i in range(3178) :\n",
    "    a = eigenvalues[i] * u\n",
    "    if (np.allclose(a,c, 1e-20)) :\n",
    "        print('TRUE almost equal :', i)    \n",
    "    if (np.array_equal(a,c)) :\n",
    "        print('TRUE equal :', i)"
   ]
  },
  {
   "cell_type": "markdown",
   "metadata": {},
   "source": [
    "Justify your choice of eigensolver."
   ]
  },
  {
   "cell_type": "markdown",
   "metadata": {},
   "source": [
    "\n",
    "Since we know our matrix is symmetric, we use the scipy.linalg.eigh function which is designed for this situation, and implements a faster algorithm than scipy.linalg.eig (which works for any kind of matrix). <br>\n",
    "Moreover scipy.linalg.eigh returns the eigenvalues in ascending order. <br>\n",
    "\n",
    "We could have taken numpy.linalg.eigh instead, since it doesn't change anything. The advantage of scipy.linalg.eigh is that it has more functionnalities. For example, it can take a second matrix as an argument, but we don't use it here, so it doesn't make any difference. <br>\n",
    "\n",
    "sparse.linalg.eigs provides a fast way to get the first k << N eigenvalues of a sparse matrix, using a partial decomposition, with Lanczos algorithm. However it is not made for computing all the eigenvalues : it approximates the values of the eigenvalues, and we get a RunTime Warning when trying to do so. Hence it is not good for computing all the eigenvalues, so we don't use it for this question.\n",
    "\n"
   ]
  },
  {
   "cell_type": "markdown",
   "metadata": {},
   "source": [
    "### Question 3\n",
    "\n",
    "We can write $L = S S^\\top$. What is the matrix $S$? What does $S^\\top x$, with $x \\in \\mathbb{R}^N$, compute?"
   ]
  },
  {
   "cell_type": "markdown",
   "metadata": {},
   "source": [
    "Matrix $S$ is the **incidence matrix** whose elements are equal to $0$ or $\\pm 1$. The rows are for nodes and columns for edges. $S(i,j)$ is equal to $+1$ if there is an edge $e_j = (v_i, v_k)$ and equal to $-1$ if there is an edge $e_j = (v_k, v_i)$ for some node $k$, the $0$ is the for other cases.\n",
    "\n",
    "If there is a signal $x \\in \\mathbb{R}^N$ then $S^\\top x$ computes **the gradient of $x$**. It is a generalization of the fact that $(S^\\top x)[j] = x[i] - x[k]$ is a derivative of $x$ along edge $j$."
   ]
  },
  {
   "cell_type": "markdown",
   "metadata": {},
   "source": [
    "### Question 4\n",
    "\n",
    "Show that $\\lambda_k = \\| S^\\top u_k \\|_2^2$, where $\\| \\cdot \\|_2^2$ denotes the squared Euclidean norm (a.k.a. squared $L^2$ norm)."
   ]
  },
  {
   "cell_type": "markdown",
   "metadata": {},
   "source": [
    "$\\| S^\\top u_k \\|_2^2 =  u_k^\\top S S^\\top u_k = u_k^\\top L u_k$ &nbsp;&nbsp;&nbsp;&nbsp;&nbsp;&nbsp;&nbsp;&nbsp; and while $u_k = D^{-1/2}f_k$ where $D$ is a diagonal degree matrix we can write\n",
    "\n",
    "$=(D^{-1/2}f_k)^\\top L D^{-1/2}f_k$\n",
    "\n",
    "$=f_k^\\top (D^{-1/2})^\\top L D^{-1/2}f_k$ &nbsp;&nbsp;&nbsp;&nbsp;&nbsp;&nbsp;&nbsp;&nbsp; as $D$ is diagonal we know that $D=D^\\top$ and $L_{norm} = D^{-1/2} L D^{-1/2}$ we can deduce\n",
    "\n",
    "$=f^\\top L_{norm} f_k$\n",
    "\n",
    "$=\\lambda_k$ &nbsp;&nbsp;&nbsp;&nbsp;&nbsp;&nbsp;&nbsp;&nbsp; the desired eigenvalue"
   ]
  },
  {
   "cell_type": "markdown",
   "metadata": {},
   "source": [
    "What does the quantity $\\| S^\\top x \\|_2^2$ tell us about $x$?"
   ]
  },
  {
   "cell_type": "markdown",
   "metadata": {},
   "source": [
    "It is a quadratic Dirichlet form, a measure of how smooth a signal $x$ is."
   ]
  },
  {
   "cell_type": "markdown",
   "metadata": {},
   "source": [
    "### Question 5\n",
    "\n",
    "What is the value of $u_0$, both for the combinatorial and normalized Laplacians?"
   ]
  },
  {
   "cell_type": "code",
   "execution_count": 40,
   "metadata": {},
   "outputs": [],
   "source": [
    "eigenvalues_comb, eigenvectors_comb = scipy.linalg.eigh(laplacian_combinatorial)\n",
    "eigenvalues_norm, eigenvectors_norm = scipy.linalg.eigh(laplacian_normalized)"
   ]
  },
  {
   "cell_type": "code",
   "execution_count": 41,
   "metadata": {},
   "outputs": [
    {
     "name": "stdout",
     "output_type": "stream",
     "text": [
      "Combinatorial u0 : \n",
      " [-0.00019296 -0.00019296 -0.00019296 ... -0.00019296 -0.00019296\n",
      " -0.00019296]\n",
      "min (absolute) value :  0.0001929576634188002\n",
      "max (absolute) value :  0.41229101539180796\n",
      "\n",
      "Normalized u0 : \n",
      " [-1.17911918e-04 -1.55982805e-04 -1.76867876e-04 ... -8.33763165e-05\n",
      " -5.89559588e-05 -5.89559588e-05]\n",
      "min (absolute) value :  2.733524292988625e-06\n",
      "max (absolute) value :  0.5632384772290487\n"
     ]
    }
   ],
   "source": [
    "u0_comb = eigenvectors_comb[:,0]\n",
    "u0_norm = eigenvectors_norm[:,0]\n",
    "print(\"Combinatorial u0 : \\n\", u0_comb)\n",
    "print(\"min (absolute) value : \", np.min(np.absolute(u0_comb)))\n",
    "print(\"max (absolute) value : \", np.max(np.absolute(u0_comb)))\n",
    "print(\"\\nNormalized u0 : \\n\", u0_norm)\n",
    "print(\"min (absolute) value : \", np.min(np.absolute(u0_norm)))\n",
    "print(\"max (absolute) value : \", np.max(np.absolute(u0_norm)))"
   ]
  },
  {
   "cell_type": "code",
   "execution_count": 65,
   "metadata": {},
   "outputs": [
    {
     "name": "stdout",
     "output_type": "stream",
     "text": [
      "Min eigenvalue (combinatorial): -7.511050221243483e-15\n",
      "Min eigenvalue (normalized): -4.817978322293023e-16\n"
     ]
    }
   ],
   "source": [
    "print(\"Min eigenvalue (combinatorial):\", eigenvalues_comb[0])\n",
    "print(\"Min eigenvalue (normalized):\", eigenvalues_norm[0])"
   ]
  },
  {
   "cell_type": "markdown",
   "metadata": {},
   "source": [
    "The value of $u_0$ for the combinatorial and normalized laplacians, is a vector composed of positive and negative numbers, whose absolute values are in the ranges showed above.<br>\n",
    "We cannot see any particular properties about these vectors, because they are computed on the whole adjacency matrix of the graph, ie. composed of several connected components. <br>\n",
    "Also it is very difficult so say something about them, because we don't know if the difference between all the values is due to the approximation done by the function scipy.linalg.eigh, or if the values are actually differents. For example, the smallest eigenvalue for the combinatorial laplacian is given by $-7.511050221243483e-15$. This value is extremely small, so we could approximate it by zero, but we might also loose some information by doing that (such as the sign of the minimal eigenvalue)!"
   ]
  },
  {
   "cell_type": "markdown",
   "metadata": {},
   "source": [
    "### Question 6\n",
    "\n",
    "Look at the spectrum of the Laplacian by plotting the eigenvalues.\n",
    "Comment on what you observe."
   ]
  },
  {
   "cell_type": "code",
   "execution_count": 11,
   "metadata": {},
   "outputs": [
    {
     "data": {
      "text/plain": [
       "[<matplotlib.lines.Line2D at 0x10ebd5860>]"
      ]
     },
     "execution_count": 11,
     "metadata": {},
     "output_type": "execute_result"
    },
    {
     "data": {
      "image/png": "[encoded data removed]",
      "text/plain": [
       "<Figure size 432x288 with 1 Axes>"
      ]
     },
     "metadata": {},
     "output_type": "display_data"
    }
   ],
   "source": [
    "plt.plot(eigenvalues)"
   ]
  },
  {
   "cell_type": "markdown",
   "metadata": {},
   "source": [
    "**Your answer here.**\n",
    "\n",
    "We can see that the eigenvalues' values are rising exponentially, an abrupt increase takes place around the last fifth.\n",
    "\n",
    "//\n",
    "Null space not that visible... Is something to be said on that point?"
   ]
  },
  {
   "cell_type": "markdown",
   "metadata": {},
   "source": [
    "How many connected components are there in your graph? Answer using the eigenvalues only."
   ]
  },
  {
   "cell_type": "code",
   "execution_count": 12,
   "metadata": {},
   "outputs": [
    {
     "data": {
      "text/plain": [
       "7"
      ]
     },
     "execution_count": 12,
     "metadata": {},
     "output_type": "execute_result"
    }
   ],
   "source": [
    "min_value = eigenvalues[0]\n",
    "\n",
    "n_components = np.count_nonzero(eigenvalues == min_value)\n",
    "n_components"
   ]
  },
  {
   "cell_type": "markdown",
   "metadata": {},
   "source": [
    "**Comments :** <br>\n",
    "Since we don't have values exactly equal to zero among our eigenvalues, we have considered the minimal value as being an approximation of zero (cf. comment of question 5 also). The number of connected components is given by the number of eigenvalues equal to zero (here equal to the minimal value). <br>\n",
    "The result we got is consistent with what we got in Milestone 2, so we think it is a good approximation."
   ]
  },
  {
   "cell_type": "markdown",
   "metadata": {},
   "source": [
    "Is there an upper bound on the eigenvalues, i.e., what is the largest possible eigenvalue? Answer for both the combinatorial and normalized Laplacians."
   ]
  },
  {
   "cell_type": "code",
   "execution_count": 68,
   "metadata": {},
   "outputs": [
    {
     "name": "stdout",
     "output_type": "stream",
     "text": [
      "Max eigenvalue for combinatorial: 247.21587610156323\n",
      "Max eigenvalue for normalized: 2.000000000000001\n",
      "Second norm of combinatorial Laplacian: 247.21587610156334\n"
     ]
    }
   ],
   "source": [
    "print(\"Max eigenvalue for combinatorial:\",max(eigenvalues_comb))\n",
    "print(\"Max eigenvalue for normalized:\",max(eigenvalues_norm))\n",
    "print(\"Second norm of combinatorial Laplacian:\", np.linalg.norm(laplacian_combinatorial,2))"
   ]
  },
  {
   "cell_type": "markdown",
   "metadata": {},
   "source": [
    "**Your answer here.**\n",
    "An upper bound exists for the normalized Laplacian eigenvalues and is equal to 2 if and only if we are dealing with a bipartite graph which we can observe in our case.\n",
    "\n",
    "Our graph should not be bipartite, it would be really strange as an interpretation for flight routes and airports. What we could say is that if the normalized Laplacian has an eigenvalue equal to 2, there exists a *component* of the graph which is bipartite. We will probably investigate deeper on this for the project. <br>\n",
    "\n",
    "For the combinatorial Laplacian, the upper bound on the eigenvalues is given by the second norm of the laplacian."
   ]
  },
  {
   "cell_type": "markdown",
   "metadata": {},
   "source": [
    "## 3 Laplacian eigenmaps\n",
    "\n",
    "*Laplacian eigenmaps* is a method to embed a graph $\\mathcal{G}$ in a $d$-dimensional Euclidean space.\n",
    "That is, it associates a vector $z_i \\in \\mathbb{R}^d$ to every node $v_i \\in \\mathcal{V}$.\n",
    "The graph $\\mathcal{G}$ is thus embedded as $Z \\in \\mathbb{R}^{N \\times d}$."
   ]
  },
  {
   "cell_type": "markdown",
   "metadata": {},
   "source": [
    "We will now use only the largest component.\n",
    "Notice that for our graph, we are very close to the original one (ie. the largest component was already almost the whole graph)"
   ]
  },
  {
   "cell_type": "code",
   "execution_count": 89,
   "metadata": {},
   "outputs": [],
   "source": [
    "import networkx as nx\n",
    "G = nx.from_numpy_matrix(adjacency)\n",
    "Gc = max(nx.connected_component_subgraphs(G), key=len)\n",
    "adjacency_c = np.array(nx.to_numpy_matrix(Gc))\n",
    "n_nodes_c = nx.number_of_nodes(Gc)\n",
    "laplacian_c_comb = sparse.csgraph.laplacian(adjacency_c, normed=False).astype('float64')\n",
    "laplacian_c_norm = sparse.csgraph.laplacian(adjacency_c, normed=True)\n",
    "laplacian_c = laplacian_c_norm"
   ]
  },
  {
   "cell_type": "markdown",
   "metadata": {},
   "source": [
    "### Question 7\n",
    "\n",
    "What do we use Laplacian eigenmaps for? (Or more generally, graph embeddings.)"
   ]
  },
  {
   "cell_type": "markdown",
   "metadata": {},
   "source": [
    "Graph embeddings map networks, graphs into a vector space preserving relevant network properties. Laplacian eigenmaps produce coordinate maps that are smooth functions over the original graph. That alows us to reduce the possible dimensions of each of the graph data point based on their similarity. Which is useful for making any computations less demanding and clearer visualization of the problem.\n",
    "\n",
    "On some problems, our data points are living in a lower-dimensional manifold than the actual dimension space. Laplacian eigenmaps is a \"non-linear dimensionality reduction\", which means that it can reduce an \"S-shape\" or a \"Swiss roll\" living in a 3 (or greater) dimension back on a lower (e.g. two) dimensions space by conserving connectiveness property. (which would not be possible with a linear dimensionality reduction algorithm). The purpose of this technique is to reduce our dimensional problem onto a lower dimension, which can improve efficiency of some computations (eg in machine learning)."
   ]
  },
  {
   "cell_type": "markdown",
   "metadata": {},
   "source": [
    "### Question 8\n",
    "\n",
    "Embed your graph in $d=2$ dimensions with Laplacian eigenmaps.\n",
    "Try with and without re-normalizing the eigenvectors by the degrees, then keep the one your prefer.\n",
    "\n",
    "**Recompute** the eigenvectors you need with a partial eigendecomposition method for sparse matrices.\n",
    "When $k \\ll N$ eigenvectors are needed, partial eigendecompositions are much more efficient than complete eigendecompositions.\n",
    "A partial eigendecomposition scales as $\\Omega(k |\\mathcal{E}|$), while a complete eigendecomposition costs $\\mathcal{O}(N^3)$ operations."
   ]
  },
  {
   "cell_type": "code",
   "execution_count": 90,
   "metadata": {
    "scrolled": true
   },
   "outputs": [
    {
     "name": "stdout",
     "output_type": "stream",
     "text": [
      "0.37434202089300256\n"
     ]
    }
   ],
   "source": [
    "k_eig_val, k_eig_vect = scipy.sparse.linalg.eigsh(laplacian_c, k=3, which='SM') \n",
    "eigen_map = k_eig_vect[:,[1,2]]\n",
    "print(np.max(eigen_map))"
   ]
  },
  {
   "cell_type": "markdown",
   "metadata": {},
   "source": [
    "Plot the nodes embedded in 2D. Comment on what you see."
   ]
  },
  {
   "cell_type": "code",
   "execution_count": 91,
   "metadata": {},
   "outputs": [
    {
     "data": {
      "text/plain": [
       "[<matplotlib.lines.Line2D at 0x1a40f65198>]"
      ]
     },
     "execution_count": 91,
     "metadata": {},
     "output_type": "execute_result"
    },
    {
     "data": {
      "image/png": "[encoded data removed]",
      "text/plain": [
       "<Figure size 432x288 with 1 Axes>"
      ]
     },
     "metadata": {},
     "output_type": "display_data"
    }
   ],
   "source": [
    "plt.plot(eigen_map[:,0],eigen_map[:,1], 'r.')"
   ]
  },
  {
   "cell_type": "markdown",
   "metadata": {},
   "source": [
    "**Your answer here.**"
   ]
  },
  {
   "cell_type": "markdown",
   "metadata": {},
   "source": [
    "### Question 9"
   ]
  },
  {
   "cell_type": "markdown",
   "metadata": {},
   "source": [
    "What does the embedding $Z \\in \\mathbb{R}^{N \\times d}$ preserve?"
   ]
  },
  {
   "cell_type": "markdown",
   "metadata": {},
   "source": [
    "In this case $Z$ is the large data matrix, $N$ is the number of data points and $d$ the dimension of each of the data points which we want to reduce. The embeding preserves the relevant network properties, the number of nodes.\n",
    "\n",
    "\n",
    "The embedding Z preserves the number of nodes, but it also preserves the *connectiveness* of the nodes, i.e. how components were connected."
   ]
  },
  {
   "cell_type": "markdown",
   "metadata": {},
   "source": [
    "## 2 Spectral clustering\n",
    "\n",
    "*Spectral clustering* is a method to partition a graph into distinct clusters.\n",
    "The method associates a feature vector $z_i \\in \\mathbb{R}^d$ to every node $v_i \\in \\mathcal{V}$, then runs [$k$-means](https://en.wikipedia.org/wiki/K-means_clustering) in the embedding space $\\mathbb{R}^d$ to assign each node $v_i \\in \\mathcal{V}$ to a cluster $c_j \\in \\mathcal{C}$, where $k = |\\mathcal{C}|$ is the number of desired clusters."
   ]
  },
  {
   "cell_type": "markdown",
   "metadata": {},
   "source": [
    "### Question 10\n",
    "\n",
    "Choose $k$ and $d$. How did you get to those numbers?"
   ]
  },
  {
   "cell_type": "markdown",
   "metadata": {},
   "source": [
    "We will choose d = 2 because we want a visualization of our graph and we will use d as the dimension to plot the nodes.\n",
    "\"k\" is the number of clusters we should observe. It should be linked with the number of labels, but for our case, we don't really know what kind of labels we should face. <br>\n",
    "From the plot we got in question 8, we think we should pick k as 2, 3 or 4. We have tried all of these, and 3 seems to be the most relevant one."
   ]
  },
  {
   "cell_type": "markdown",
   "metadata": {},
   "source": [
    "### Question 11\n",
    "\n",
    "1. Embed your graph in $\\mathbb{R}^d$ as $Z \\in \\mathbb{R}^{N \\times d}$.\n",
    "   Try with and without re-normalizing the eigenvectors by the degrees, then keep the one your prefer.\n",
    "1. If you want $k=2$ clusters, partition with the Fiedler vector. For $k > 2$ clusters, run $k$-means on $Z$. Don't implement $k$-means, use the `KMeans` class imported from scikit-learn."
   ]
  },
  {
   "cell_type": "code",
   "execution_count": 137,
   "metadata": {},
   "outputs": [],
   "source": [
    "clusters = 3\n",
    "k_eig_val, k_eig_vect = scipy.sparse.linalg.eigsh(laplacian_c, k=clusters, which='SM')\n",
    "# Normalizing by the degree\n",
    "diag = np.diag(laplacian_c)\n",
    "for i in range(clusters):\n",
    "    k_eig_vect[:, i] /= diag\n",
    "inter = KMeans(n_clusters=clusters, random_state=0).fit_predict(k_eig_vect)\n",
    "Z = np.array(inter)"
   ]
  },
  {
   "cell_type": "markdown",
   "metadata": {},
   "source": [
    "### Question 12\n",
    "\n",
    "Use the computed cluster assignment to reorder the adjacency matrix $A$.\n",
    "What do you expect? What do you observe?"
   ]
  },
  {
   "cell_type": "code",
   "execution_count": 138,
   "metadata": {},
   "outputs": [
    {
     "name": "stdout",
     "output_type": "stream",
     "text": [
      "[[0. 1. 1. ... 0. 0. 0.]\n",
      " [1. 0. 1. ... 0. 0. 0.]\n",
      " [1. 1. 0. ... 0. 0. 0.]\n",
      " ...\n",
      " [0. 0. 0. ... 0. 0. 0.]\n",
      " [0. 0. 0. ... 0. 0. 0.]\n",
      " [0. 0. 0. ... 0. 0. 0.]]\n"
     ]
    },
    {
     "data": {
      "text/plain": [
       "<matplotlib.image.AxesImage at 0x1a772bbeb8>"
      ]
     },
     "execution_count": 138,
     "metadata": {},
     "output_type": "execute_result"
    },
    {
     "data": {
      "image/png": "[encoded data removed]",
      "text/plain": [
       "<Figure size 432x288 with 1 Axes>"
      ]
     },
     "metadata": {},
     "output_type": "display_data"
    }
   ],
   "source": [
    "ordered_adj = np.zeros((n_nodes_c, n_nodes_c))\n",
    "last_idx = 0\n",
    "for i in range(clusters):\n",
    "    ordered_adji = adjacency_c[Z==i]\n",
    "    size = ordered_adji.shape[0]\n",
    "    ordered_adj[last_idx:last_idx+size] = ordered_adji\n",
    "    last_idx += size\n",
    "    \n",
    "print(ordered_adj)\n",
    "plt.spy(ordered_adj)\n",
    "    "
   ]
  },
  {
   "cell_type": "code",
   "execution_count": 149,
   "metadata": {},
   "outputs": [
    {
     "data": {
      "image/png": "[encoded data removed]",
      "text/plain": [
       "<Figure size 432x288 with 1 Axes>"
      ]
     },
     "metadata": {},
     "output_type": "display_data"
    },
    {
     "data": {
      "image/png": "[encoded data removed]",
      "text/plain": [
       "<Figure size 432x288 with 1 Axes>"
      ]
     },
     "metadata": {},
     "output_type": "display_data"
    },
    {
     "data": {
      "image/png": "[encoded data removed]",
      "text/plain": [
       "<Figure size 432x288 with 1 Axes>"
      ]
     },
     "metadata": {},
     "output_type": "display_data"
    },
    {
     "data": {
      "image/png": "[encoded data removed]",
      "text/plain": [
       "<Figure size 432x288 with 1 Axes>"
      ]
     },
     "metadata": {},
     "output_type": "display_data"
    },
    {
     "name": "stdout",
     "output_type": "stream",
     "text": [
      "Indices for with the sum along axis 1 is zero in adjacency_c :  (array([], dtype=int64),)\n",
      "Indices for with the sum along axis 1 is zero in ordered_adj_matrix :  (array([1673, 1674, 1676, 1679, 1692, 1764, 1780, 1882, 2502, 2506, 2787,\n",
      "       2791, 2803, 2815, 2816, 2817, 2885, 2886, 2887, 2898, 2899, 2904,\n",
      "       2905, 2906, 2908, 2911, 2912]),)\n"
     ]
    },
    {
     "data": {
      "image/png": "[encoded data removed]",
      "text/plain": [
       "<Figure size 432x288 with 1 Axes>"
      ]
     },
     "metadata": {},
     "output_type": "display_data"
    }
   ],
   "source": [
    "ordered_adj_matrix_without_biggest_cluster = np.zeros((n_nodes_c-3035, n_nodes_c-3035)) # 3035 corresponds to the shape of the first cluster\n",
    "ordered_adj_matrix = np.zeros((n_nodes_c, n_nodes_c))\n",
    "\n",
    "size = 0\n",
    "for i in range(clusters):\n",
    "    current_matrix = adjacency_c[Z==i]\n",
    "    current_matrix = current_matrix[:, Z==i]\n",
    "    if i != 0:\n",
    "        ordered_adj_matrix_without_biggest_cluster[size-3035:size-3035+current_matrix.shape[0], size-3035:size-3035+current_matrix.shape[0]] = current_matrix    \n",
    "    \n",
    "    ordered_adj_matrix[size:size+current_matrix.shape[0], size:size+current_matrix.shape[0]] = current_matrix      \n",
    "    size += current_matrix.shape[0]\n",
    "    plt.title(\"adjacency of cluster \" + str(i) + \" of shape\" + str(current_matrix.shape))\n",
    "    plt.spy(current_matrix)\n",
    "    plt.show()\n",
    "\n",
    "plt.title(\"adjacency matrix of three last clusters, reordered\")\n",
    "plt.spy(ordered_adj_matrix_without_biggest_cluster)\n",
    "plt.show()\n",
    "plt.title(\"adjacency matrix of all clusters, reordered\")\n",
    "plt.spy(ordered_adj_matrix)\n",
    "\n",
    "#REMOVE THE FOLLOWING PRINTS BEFORE SUMITTING !!!\n",
    "print(\"Indices for with the sum along axis 1 is zero in adjacency_c : \", np.where(np.sum(adjacency_c, 1)==0))\n",
    "print(\"Indices for with the sum along axis 1 is zero in ordered_adj_matrix : \", np.where(np.sum(ordered_adj_matrix, 1)==0))"
   ]
  },
  {
   "cell_type": "markdown",
   "metadata": {},
   "source": [
    "I guess we would end up with smthg like [1,1,1, 0,0,0,  0,0,0] [0,0,0, 1,1,1, 0,0,0]..."
   ]
  },
  {
   "cell_type": "markdown",
   "metadata": {},
   "source": [
    "### Question 13\n",
    "\n",
    "If you have ground truth clusters for your dataset, compare the cluster assignment from spectral clustering to the ground truth.\n",
    "A simple quantitative measure is to compute the percentage of nodes that have been correctly categorized.\n",
    "If you don't have a ground truth, qualitatively assess the quality of the clustering.\n",
    "\n",
    "Ground truth clusters are the \"real clusters\".\n",
    "For example, the genre of musical tracks in FMA, the category of Wikipedia articles, the spammer status of individuals, etc.\n",
    "Look for the `labels` in the [dataset descriptions](https://github.com/mdeff/ntds_2018/tree/master/projects/README.md)."
   ]
  },
  {
   "cell_type": "code",
   "execution_count": 140,
   "metadata": {},
   "outputs": [],
   "source": [
    "# Your code here. Lol no idea"
   ]
  },
  {
   "cell_type": "markdown",
   "metadata": {},
   "source": [
    "### Question 14\n",
    "\n",
    "Plot the cluster assignment (one color per cluster) on the 2D embedding you computed above with Laplacian eigenmaps."
   ]
  },
  {
   "cell_type": "code",
   "execution_count": 141,
   "metadata": {},
   "outputs": [
    {
     "data": {
      "text/plain": [
       "<matplotlib.collections.PathCollection at 0x1a4d643748>"
      ]
     },
     "execution_count": 141,
     "metadata": {},
     "output_type": "execute_result"
    },
    {
     "data": {
      "image/png": "[encoded data removed]",
      "text/plain": [
       "<Figure size 720x432 with 1 Axes>"
      ]
     },
     "metadata": {},
     "output_type": "display_data"
    }
   ],
   "source": [
    "# Your code here.\n",
    "clust_1 = np.where(Z==0)\n",
    "clust_2 = np.where(Z==1)\n",
    "clust_3 = np.where(Z==2)\n",
    "#clust_4 = np.where(Z==3)\n",
    "\n",
    "a1 = np.squeeze(np.take(eigen_map, clust_1, 0))\n",
    "a2 = np.squeeze(np.take(eigen_map, clust_2, 0))\n",
    "a3 = np.squeeze(np.take(eigen_map, clust_3, 0))\n",
    "#a4 = np.squeeze(np.take(eigen_map, clust_4, 0))\n",
    "\n",
    "plt.figure(figsize = (10,6))\n",
    "plt.scatter(a1[:,0],a1[:,1], color='blue')\n",
    "plt.scatter(a2[:,0],a2[:,1], color='orange')\n",
    "plt.scatter(a3[:,0],a3[:,1], color='green')\n",
    "#plt.scatter(a4[:,0],a4[:,1], color='red')\n",
    "\n",
    "#plt.ylim((-0.03, 0.03))\n",
    "#plt.xlim((-0.05, 0.05))\n"
   ]
  },
  {
   "cell_type": "markdown",
   "metadata": {},
   "source": [
    "### Question 15\n",
    "\n",
    "Why did we use the eigenvectors of the graph Laplacian as features? Could we use other features for clustering?"
   ]
  },
  {
   "cell_type": "markdown",
   "metadata": {},
   "source": [
    "**Your answer here.**\n",
    "Eigenvectors and Eigenvalues of the graph Laplacian carry information about the nodes and their connectiveness. Eigenvalues tell us how much connected are our nodes and eigenvectors describe a new orthogonal basis. Hence it is a good metric to reduce dimension of our data space, while keeping the most important information.\n",
    "\n",
    "Yes of course there is plenty of manners to cluster our graph. We could use features of lattitude and longitude to work with metric distances and to use that instead for clustering points between them, regardless their connectivity, ie their routes."
   ]
  }
 ],
 "metadata": {
  "kernelspec": {
   "display_name": "Python 3",
   "language": "python",
   "name": "python3"
  },
  "language_info": {
   "codemirror_mode": {
    "name": "ipython",
    "version": 3
   },
   "file_extension": ".py",
   "mimetype": "text/x-python",
   "name": "python",
   "nbconvert_exporter": "python",
   "pygments_lexer": "ipython3",
   "version": "3.7.0"
  }
 },
 "nbformat": 4,
 "nbformat_minor": 2
}
