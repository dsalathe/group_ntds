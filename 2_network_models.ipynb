{
 "cells": [
  {
   "cell_type": "markdown",
   "metadata": {},
   "source": [
    "# [NTDS'18] milestone 2: network models\n",
    "[ntds'18]: https://github.com/mdeff/ntds_2018\n",
    "\n",
    "[Hermina Petric Maretic](https://people.epfl.ch/hermina.petricmaretic), [EPFL LTS4](https://lts4.epfl.ch)"
   ]
  },
  {
   "cell_type": "markdown",
   "metadata": {},
   "source": [
    "## Students\n",
    "\n",
    "* Team: `8`\n",
    "* Students: `Matyas Lustig, Aurélien Pomini, David Salathé, Justine Weber`\n",
    "* Dataset: `Flight Routes`"
   ]
  },
  {
   "cell_type": "markdown",
   "metadata": {},
   "source": [
    "## Rules\n",
    "\n",
    "* Milestones have to be completed by teams. No collaboration between teams is allowed.\n",
    "* Textual answers shall be short. Typically one to two sentences.\n",
    "* Code has to be clean.\n",
    "* In the first part, you cannot import any other library than we imported. In the second part, you are allowed to import any library you want.\n",
    "* When submitting, the notebook is executed and the results are stored. I.e., if you open the notebook again it should show numerical results and plots. We won't be able to execute your notebooks.\n",
    "* The notebook is re-executed from a blank state before submission. That is to be sure it is reproducible. You can click \"Kernel\" then \"Restart & Run All\" in Jupyter."
   ]
  },
  {
   "cell_type": "markdown",
   "metadata": {},
   "source": [
    "## Objective\n",
    "\n",
    "The purpose of this milestone is to explore various random network models, analyse their properties and compare them to your network. In the first part of the milestone you will implement two random graph models and try to fit them to your network. In this part you are not allowed to use any additional package. In the second part of the milestone you will choose a third random graph model that you think shares some properties with your network. You will be allowed to use additional packages to construct this network, but you must explain your network choice. Finally, make your code as clean as possible, and keep your textual answers short."
   ]
  },
  {
   "cell_type": "markdown",
   "metadata": {},
   "source": [
    "## Part 0\n",
    "\n",
    "Import the adjacency matrix of your graph that you constructed in milestone 1, as well as the number of nodes and edges of your network."
   ]
  },
  {
   "cell_type": "code",
   "execution_count": 20,
   "metadata": {},
   "outputs": [],
   "source": [
    "import numpy as np\n",
    "\n",
    "adjacency =  np.load('data/adjacency_sym_mtx_uw.npy')  # the adjacency matrix\n",
    "n_nodes =  adjacency.shape[0] # the number of nodes in the network\n",
    "adjacency[np.diag_indices_from(adjacency)] = 0 # set diagonal elements to 0 (see comment)\n",
    "n_edges =  adjacency.sum() / 2 # the number of edges in the network"
   ]
  },
  {
   "cell_type": "code",
   "execution_count": 21,
   "metadata": {},
   "outputs": [
    {
     "name": "stdout",
     "output_type": "stream",
     "text": [
      "Number of nodes :  3179\n",
      "Number of edges :  18616.0\n"
     ]
    }
   ],
   "source": [
    "print(\"Number of nodes : \", n_nodes)\n",
    "print(\"Number of edges : \", n_edges)"
   ]
  },
  {
   "cell_type": "markdown",
   "metadata": {},
   "source": [
    "**Comment 1:** <br>\n",
    "We have decided to import the symmetric unweighted adjacency matrix, previously computed in Milestone one. Why symmetric and unweighted ? <br>\n",
    "Because in this milestone (2), we will compare our network to random network models. From the models we have seen in class, the random network models we will use and built by adding edges which are undirected and unweighted. Therefore we have concluded that it would make more sense to compare a network sharing the same properties, ie. the unweighted symmetric version of our network."
   ]
  },
  {
   "cell_type": "markdown",
   "metadata": {},
   "source": [
    "**Comment 2:** <br>\n",
    "We have noticed that our previously constructed graph from Milestone 1, actually has self loop. It comes from the fact that, in the routes data set, one entry related an airport to itself : it is both the source and the destination airport of the entry (it is the airport having IATA \"PKN\", and the entry at index 33276 in routes). As a consequence, our adjacency matrix has one non zero element on the diagonal. <br>\n",
    "If we place this in the context of airlines, it doesn't really make sense to have a line from an airport to itself. We have therefore decided to ignore this edge in the adjacency matrix. This is why we compute the number of edges by summing the elements of the unweighted adjacency matrix and subtracting one. We divide by two since the matrix is symmetric : each path is represented twice for each direction."
   ]
  },
  {
   "cell_type": "markdown",
   "metadata": {},
   "source": [
    "## Part 1\n",
    "\n",
    "**For the computation of this part of the milestone you are only allowed to use the packages that have been imported in the cell below.**"
   ]
  },
  {
   "cell_type": "code",
   "execution_count": 22,
   "metadata": {},
   "outputs": [],
   "source": [
    "%matplotlib inline\n",
    "\n",
    "import random\n",
    "\n",
    "import numpy as np\n",
    "import pandas as pd\n",
    "import matplotlib.pyplot as plt\n",
    "import scipy\n",
    "\n",
    "from scipy.sparse import random"
   ]
  },
  {
   "cell_type": "markdown",
   "metadata": {},
   "source": [
    "### Question 1\n",
    "\n",
    "Create a function that constructs an Erdős–Rényi graph."
   ]
  },
  {
   "cell_type": "code",
   "execution_count": 23,
   "metadata": {},
   "outputs": [],
   "source": [
    "def erdos_renyi(n, p, seed=None):\n",
    "    \"\"\"Create an instance from the Erdos-Renyi graph model.\n",
    "    \n",
    "    Parameters\n",
    "    ----------\n",
    "    n: int\n",
    "        Size of the graph.\n",
    "    p: float\n",
    "        Edge probability. A number between 0 and 1.\n",
    "    seed: int (optional)\n",
    "        Seed for the random number generator. To get reproducible results.\n",
    "    \n",
    "    Returns\n",
    "    -------\n",
    "    adjacency\n",
    "        The adjacency matrix of a graph.\n",
    "    \"\"\"\n",
    "    np.random.seed(seed)\n",
    "\n",
    "    rnd = np.random.choice([0, 1], size=(n, n), p=[1-p, p])\n",
    "    rnd = np.triu(rnd, 1)\n",
    "    adjacency = rnd + rnd.T\n",
    "\n",
    "    return adjacency"
   ]
  },
  {
   "cell_type": "code",
   "execution_count": 24,
   "metadata": {},
   "outputs": [
    {
     "name": "stdout",
     "output_type": "stream",
     "text": [
      "0.32\n"
     ]
    },
    {
     "data": {
      "image/png": "[encoded data removed]",
      "text/plain": [
       "<Figure size 432x288 with 1 Axes>"
      ]
     },
     "metadata": {},
     "output_type": "display_data"
    }
   ],
   "source": [
    "er = erdos_renyi(5, 0.6, 9765) #9765\n",
    "plt.spy(er)\n",
    "plt.title('Erdos-Renyi (5, 0.6)')\n",
    "\n",
    "print(er.sum() / (5*5))"
   ]
  },
  {
   "cell_type": "code",
   "execution_count": 25,
   "metadata": {},
   "outputs": [
    {
     "data": {
      "text/plain": [
       "Text(0.5, 1.05, 'Erdos-Renyi (10, 0.4)')"
      ]
     },
     "execution_count": 25,
     "metadata": {},
     "output_type": "execute_result"
    },
    {
     "data": {
      "image/png": "[encoded data removed]",
      "text/plain": [
       "<Figure size 432x288 with 1 Axes>"
      ]
     },
     "metadata": {},
     "output_type": "display_data"
    }
   ],
   "source": [
    "er = erdos_renyi(10, 0.4, 7648)\n",
    "plt.spy(er)\n",
    "plt.title('Erdos-Renyi (10, 0.4)')"
   ]
  },
  {
   "cell_type": "markdown",
   "metadata": {},
   "source": [
    "### Question 2\n",
    "\n",
    "Use the function to create a random Erdos-Renyi graph. Choose the parameters such that number of nodes is the same as in your graph, and the number of edges similar. You don't need to set the random seed. Comment on your choice of parameters."
   ]
  },
  {
   "cell_type": "code",
   "execution_count": 26,
   "metadata": {},
   "outputs": [
    {
     "name": "stdout",
     "output_type": "stream",
     "text": [
      "Our graph no. of edges: 18616.0\n",
      "ER graph no. of edges: 18651.0\n"
     ]
    }
   ],
   "source": [
    "p = 2 * n_edges / ( n_nodes * (n_nodes-1) )\n",
    "er = erdos_renyi(n_nodes, p, None)\n",
    "print('Our graph no. of edges:', n_edges)\n",
    "print('ER graph no. of edges:', er.sum() / 2)"
   ]
  },
  {
   "cell_type": "markdown",
   "metadata": {},
   "source": [
    "**Answer :** <br>\n",
    "We compute the probability of having an edge in the ER model by deviding the number of edges in our graph by the maximum number of edges for the given number of nodes in our graph."
   ]
  },
  {
   "cell_type": "markdown",
   "metadata": {},
   "source": [
    "### Question 3\n",
    "\n",
    "Create a function that constructs a Barabási-Albert graph."
   ]
  },
  {
   "cell_type": "code",
   "execution_count": 27,
   "metadata": {},
   "outputs": [],
   "source": [
    "def barabasi_albert(n, m, seed=None):\n",
    "    \"\"\"Create an instance from the Barabasi-Albert graph model.\n",
    "    \n",
    "    Parameters\n",
    "    ----------\n",
    "    n: int\n",
    "        Size of the graph.\n",
    "    m: int\n",
    "        Number of edges to attach from a new node to existing nodes.\n",
    "    seed: int (optional)\n",
    "        Seed for the random number generator. To get reproducible results.\n",
    "    \n",
    "    Returns\n",
    "    -------\n",
    "    adjacency\n",
    "        The adjacency matrix of a graph.\n",
    "    \"\"\"\n",
    "    assert n >= m, \"m cannot be bigger than n\"\n",
    "    \n",
    "    # Set the seed\n",
    "    np.random.seed(seed)\n",
    "    \n",
    "    # Create adjacency matrix for BA-model\n",
    "    adjacency = np.zeros((n,n))\n",
    "    \n",
    "    # List of nodes to connect \n",
    "    candidates = set(np.arange(n))\n",
    "    \n",
    "    # t is number of iterations\n",
    "    t = n - m\n",
    "    \n",
    "    # Initiation of the graph :\n",
    "    # Connect m randomly selected initial nodes \n",
    "    # among the n, as a line in a random order\n",
    "    m0s = np.random.choice(n, m, replace=False)\n",
    "    for i in range(m0s.shape[0]-1):\n",
    "        adjacency[m0s[i], m0s[i+1]] = 1\n",
    "        adjacency[m0s[i+1], m0s[i]] = 1\n",
    "        \n",
    "    candidates -= set(m0s)\n",
    "\n",
    "    # Add new nodes for t iterations\n",
    "    for i in range(t):\n",
    "        totalDeg = adjacency.sum()\n",
    "        if totalDeg == 0:\n",
    "            prefs = np.zeros((n))\n",
    "            prefs[m0s[0]] = 1\n",
    "        else:\n",
    "            # table of proba for preferential attachement\n",
    "            prefs = [x.sum()/totalDeg for x in adjacency]\n",
    "        \n",
    "        # Select m neighbours randomly according to preferential \n",
    "        # attachement to connect the new node to \n",
    "        # the nodes which aren't in the graph yet have probability 0\n",
    "        ms = np.random.choice(n, m, replace=False, p=prefs)\n",
    "        \n",
    "        # Select the new node to connect randomly\n",
    "        candidate = np.random.choice(list(candidates), 1, replace=False)\n",
    "        \n",
    "        # Add the m new edges in adjacency matrix\n",
    "        for j in range(ms.shape[0]):\n",
    "            adjacency[candidate, ms[j]] = 1\n",
    "            adjacency[ms[j], candidate] = 1\n",
    "        \n",
    "        candidates -= set(candidate)\n",
    "        \n",
    "    assert len(candidates) == 0\n",
    "        \n",
    "    return adjacency"
   ]
  },
  {
   "cell_type": "code",
   "execution_count": 28,
   "metadata": {},
   "outputs": [
    {
     "data": {
      "text/plain": [
       "Text(0.5, 1.05, 'Barabasi-Albert (5, 1)')"
      ]
     },
     "execution_count": 28,
     "metadata": {},
     "output_type": "execute_result"
    },
    {
     "data": {
      "image/png": "[encoded data removed]",
      "text/plain": [
       "<Figure size 432x288 with 1 Axes>"
      ]
     },
     "metadata": {},
     "output_type": "display_data"
    }
   ],
   "source": [
    "ba = barabasi_albert(5, 1, 9087)\n",
    "plt.spy(ba)\n",
    "plt.title('Barabasi-Albert (5, 1)')"
   ]
  },
  {
   "cell_type": "code",
   "execution_count": 29,
   "metadata": {},
   "outputs": [
    {
     "data": {
      "text/plain": [
       "Text(0.5, 1.05, 'Barabasi-Albert (10, 2)')"
      ]
     },
     "execution_count": 29,
     "metadata": {},
     "output_type": "execute_result"
    },
    {
     "data": {
      "image/png": "[encoded data removed]",
      "text/plain": [
       "<Figure size 432x288 with 1 Axes>"
      ]
     },
     "metadata": {},
     "output_type": "display_data"
    }
   ],
   "source": [
    "ba = barabasi_albert(10, 2, 8708)\n",
    "plt.spy(ba)\n",
    "plt.title('Barabasi-Albert (10, 2)')"
   ]
  },
  {
   "cell_type": "markdown",
   "metadata": {},
   "source": [
    "### Question 4\n",
    "\n",
    "Use the function to create a random Barabási-Albert graph. Choose the parameters such that number of nodes is the same as in your graph, and the number of edges similar. You don't need to set the random seed. Comment on your choice of parameters."
   ]
  },
  {
   "cell_type": "code",
   "execution_count": 30,
   "metadata": {},
   "outputs": [
    {
     "name": "stdout",
     "output_type": "stream",
     "text": [
      "Root 1: 5.86490475086066\n",
      "Root 2: 3174.1350952491393\n",
      "19043.0\n"
     ]
    },
    {
     "data": {
      "image/png": "[encoded data removed]",
      "text/plain": [
       "<Figure size 432x288 with 1 Axes>"
      ]
     },
     "metadata": {},
     "output_type": "display_data"
    }
   ],
   "source": [
    "root1 = (-(n_nodes + 1) + np.sqrt((n_nodes + 1)**2 - 4 * n_edges))/(-2)\n",
    "root2 = (-(n_nodes + 1) - np.sqrt((n_nodes + 1)**2 - 4 * n_edges))/(-2)\n",
    "print(\"Root 1:\", root1)\n",
    "print(\"Root 2:\", root2)\n",
    "m = int(round(root1))\n",
    "ba = barabasi_albert(n_nodes, m)\n",
    "plt.spy(ba)\n",
    "plt.title('Barabasi-Albert ({}, {})'.format(n_nodes, m))\n",
    "print(ba.sum()//2)"
   ]
  },
  {
   "cell_type": "markdown",
   "metadata": {},
   "source": [
    "**Comments :** <br>\n",
    "The parameter n is trivial: n_nodes. <br>\n",
    "For the parameter m, recall that if we fix $m_0 = m$, we have $mt + m_0$ edges, ie. $mt + m$ edges. <br>\n",
    "We also have $t = N - m$. <br>\n",
    "This yield $n\\_edges = mt + m = m(N - m) + m = mN - m^2 + m = m(N+1) - m^2$. <br>\n",
    "Then by solving the equation, we have $-m^2 + (n\\_nodes+1)m - n\\_edges = 0$, where N = n_nodes. <br>\n",
    "Roots are 5.86 and 3174.13. <br>\n",
    "However, the minimal degree of each new node in the BA algorithm is clearly near 5.86 than 3174.13, which we can verify by looking at the degree distribution of our network. We therefore decided to choose round(5.86) => 6."
   ]
  },
  {
   "cell_type": "markdown",
   "metadata": {},
   "source": [
    "### Question 5\n",
    "\n",
    "Compare the number of edges in all three networks (your real network, the Erdős–Rényi network, and the Barabási-Albert netowk)."
   ]
  },
  {
   "cell_type": "code",
   "execution_count": 31,
   "metadata": {},
   "outputs": [
    {
     "name": "stdout",
     "output_type": "stream",
     "text": [
      "Number of edges Erdos-Reni : 18651.0\n",
      "Number of edges B-A: 19043.0\n",
      "Number of edges in our network: 18616.0\n"
     ]
    }
   ],
   "source": [
    "print(\"Number of edges Erdos-Reni :\", er.sum() / 2)\n",
    "print(\"Number of edges B-A:\", ba.sum() / 2)\n",
    "print(\"Number of edges in our network:\", n_edges)"
   ]
  },
  {
   "cell_type": "markdown",
   "metadata": {},
   "source": [
    "**Comments:**<br>\n",
    "Since the number of edges for ER algorithm is random, we don't always have exactly the same number of edges, but on average the number of edges is similar between ER graph and our network (~ +- 400 edges, ie. ~ +-2%). <br>\n",
    "For BA algorithm, the number of edges is deterministic, and the randomness comes from which nodes to connect together. The best approximation of the number of edges we get is 19043 (with $m=6$). This corresponds to 2% precision error."
   ]
  },
  {
   "cell_type": "markdown",
   "metadata": {},
   "source": [
    "### Question 6\n",
    "\n",
    "Implement a function that computes the [Kullback–Leibler (KL) divergence](https://en.wikipedia.org/wiki/Kullback%E2%80%93Leibler_divergence) between two probability distributions.\n",
    "We'll use it to compare the degree distributions of networks."
   ]
  },
  {
   "cell_type": "code",
   "execution_count": 32,
   "metadata": {},
   "outputs": [],
   "source": [
    "def kl_divergence(p, q, log=False, first_interval_width=1, exponent=1.1, bins=None):\n",
    "    \"\"\"Compute the KL divergence between probability distributions of degrees of two networks.\n",
    "    \n",
    "    Parameters\n",
    "    ----------\n",
    "    p: np.array\n",
    "        Probability distribution of degrees of the 1st graph.\n",
    "    q: np.array\n",
    "        Probability distribution of degrees of the 2nd graph.\n",
    "    \n",
    "    Returns\n",
    "    -------\n",
    "    kl\n",
    "        The KL divergence between the two distributions.\n",
    "    \"\"\"\n",
    "    \n",
    "    # log scale\n",
    "    size = min(len(p), len(q))\n",
    "    if bins==None:\n",
    "        bins=size\n",
    "    \n",
    "    if(log):\n",
    "        new_p = []\n",
    "        new_q = []\n",
    "        start = 0\n",
    "        width = first_interval_width\n",
    "\n",
    "        \n",
    "        while(start + width < size):\n",
    "            \n",
    "            end = start+width           \n",
    "            width = int(np.ceil(width*exponent))\n",
    "            \n",
    "            if (size-end < width):\n",
    "            \n",
    "                end = size\n",
    "\n",
    "            for new_distr, distr in zip((new_p, new_q), (p, q)):\n",
    "                new_distr.append(distr[start:end].sum())\n",
    "                       \n",
    "            start = end\n",
    "        \n",
    "        for new in new_p, new_q:\n",
    "            new = np.array(new)\n",
    "    \n",
    "    # linear bins       \n",
    "    else:\n",
    "        interval_length = size // bins\n",
    "          \n",
    "        new_p = np.zeros(bins)\n",
    "        new_q = np.zeros(bins)      \n",
    "        \n",
    "        start = 0\n",
    "        for i in range(bins):\n",
    "            \n",
    "            end = start + interval_length\n",
    "            if i == bins-1:\n",
    "                end = size\n",
    "            \n",
    "            for new_distr, distr in zip((new_p, new_q), (p, q)):\n",
    "                new_distr[i] = distr[start:end].sum()\n",
    "            start = end\n",
    "            \n",
    "    # compute Dkl(P||Q)\n",
    "    # pi ln (pi / qi)\n",
    "    # (p * np.log(p/q)).sum()\n",
    "    def helper_kl(p,q):\n",
    "        if p == 0.0 or q == 0.0:\n",
    "            return 0.0\n",
    "        return p * np.log(p/q)\n",
    "    \n",
    "    if bins==None:\n",
    "        new_p = p\n",
    "        new_q = q\n",
    "        \n",
    "    return np.vectorize(helper_kl)(new_p,new_q).sum()"
   ]
  },
  {
   "cell_type": "code",
   "execution_count": 33,
   "metadata": {},
   "outputs": [
    {
     "data": {
      "text/plain": [
       "0.09151622184943575"
      ]
     },
     "execution_count": 33,
     "metadata": {},
     "output_type": "execute_result"
    }
   ],
   "source": [
    "p_test = np.array([0.2, 0.2, 0.2, 0.4])\n",
    "q_test = np.array([0.3, 0.3, 0.1, 0.3])\n",
    "kl_divergence(p_test, q_test)"
   ]
  },
  {
   "cell_type": "markdown",
   "metadata": {},
   "source": [
    "### Question 7\n",
    "\n",
    "Compare the degree distribution of your network to each of the two synthetic ones, in terms of KL divergence. **Hint:** Make sure you normalise your degree distributions to make them valid probability distributions."
   ]
  },
  {
   "cell_type": "code",
   "execution_count": 34,
   "metadata": {},
   "outputs": [],
   "source": [
    "def make_distrib(histogram):\n",
    "    max_ = np.max(histogram) +1\n",
    "    histogram = histogram.astype(int)\n",
    "    result = np.zeros(int(max_))\n",
    "    for deg in histogram :\n",
    "        result[deg] +=1\n",
    "        \n",
    "    # normalization   \n",
    "    return result/np.sum(result)"
   ]
  },
  {
   "cell_type": "code",
   "execution_count": 35,
   "metadata": {},
   "outputs": [],
   "source": [
    "def make_histogram(adjacency):\n",
    "    degree = np.sum(adjacency, axis = 0)\n",
    "    total = degree.sum()\n",
    "    return degree / total, degree"
   ]
  },
  {
   "cell_type": "code",
   "execution_count": 36,
   "metadata": {},
   "outputs": [],
   "source": [
    "our_freq_histo, our_histo = make_histogram(adjacency)\n",
    "\n",
    "ba_freq_histo, ba_histo = make_histogram(ba)\n",
    "\n",
    "er_freq_histo, er_histo = make_histogram(er)"
   ]
  },
  {
   "cell_type": "code",
   "execution_count": 37,
   "metadata": {},
   "outputs": [
    {
     "name": "stdout",
     "output_type": "stream",
     "text": [
      "BA vs our network KL-Divergence : 0.09803923589489685\n",
      "ER vs our network KL-Divergence : 1.9501778591350312\n"
     ]
    }
   ],
   "source": [
    "our_dist = make_distrib(our_histo)\n",
    "ba_dist = make_distrib(ba_histo)\n",
    "er_dist = make_distrib(er_histo)\n",
    "\n",
    "compare_BA = kl_divergence(our_dist, ba_dist, bins = 19)\n",
    "compare_ER = kl_divergence(our_dist, er_dist, bins = 19)\n",
    "print(\"BA vs our network KL-Divergence :\",compare_BA)\n",
    "print(\"ER vs our network KL-Divergence :\", compare_ER)"
   ]
  },
  {
   "cell_type": "markdown",
   "metadata": {},
   "source": [
    "### Question 8\n",
    "\n",
    "Plot the degree distribution historgrams for all three networks. Are they consistent with the KL divergence results? Explain."
   ]
  },
  {
   "cell_type": "code",
   "execution_count": 38,
   "metadata": {},
   "outputs": [
    {
     "data": {
      "text/plain": [
       "Text(0.5, 1.0, 'Compare histograms of ER, BA, our network')"
      ]
     },
     "execution_count": 38,
     "metadata": {},
     "output_type": "execute_result"
    },
    {
     "data": {
      "image/png": "[encoded data removed]",
      "text/plain": [
       "<Figure size 432x288 with 1 Axes>"
      ]
     },
     "metadata": {},
     "output_type": "display_data"
    }
   ],
   "source": [
    "weights = np.ones_like(our_histo) / float(n_nodes)\n",
    "max_ = len(our_dist)\n",
    "b1 = np.linspace(0, max_, max_)\n",
    "plt.hist(our_histo, weights=weights, bins=b1)\n",
    "plt.hist(ba_histo, weights=weights, bins=b1)\n",
    "plt.hist(er_histo, weights=weights, bins=b1)\n",
    "plt.ylim((0, 0.3))\n",
    "plt.title(\"Compare histograms of ER, BA, our network\")"
   ]
  },
  {
   "cell_type": "code",
   "execution_count": 39,
   "metadata": {},
   "outputs": [
    {
     "data": {
      "text/plain": [
       "Text(0.5, 1.0, 'Compare histograms of ER, BA, our network')"
      ]
     },
     "execution_count": 39,
     "metadata": {},
     "output_type": "execute_result"
    },
    {
     "data": {
      "image/png": "[encoded data removed]",
      "text/plain": [
       "<Figure size 432x288 with 1 Axes>"
      ]
     },
     "metadata": {},
     "output_type": "display_data"
    }
   ],
   "source": [
    "# Second plot to see more details\n",
    "b2 = np.linspace(0, 60, 60)\n",
    "plt.hist(our_histo, weights=weights, bins=b2)\n",
    "plt.hist(ba_histo, weights=weights, bins=b2)\n",
    "plt.hist(er_histo, weights=weights, bins=b2)\n",
    "plt.ylim((0, 0.08))\n",
    "plt.title(\"Compare histograms of ER, BA, our network\")"
   ]
  },
  {
   "cell_type": "markdown",
   "metadata": {},
   "source": [
    "Blue: Real Network. <br/>\n",
    "Orange: Albert <br/>\n",
    "Green: random <br/>"
   ]
  },
  {
   "cell_type": "code",
   "execution_count": 40,
   "metadata": {},
   "outputs": [
    {
     "data": {
      "text/plain": [
       "Text(0.5, 1.0, 'Degree distribution of our network')"
      ]
     },
     "execution_count": 40,
     "metadata": {},
     "output_type": "execute_result"
    },
    {
     "data": {
      "image/png": "[encoded data removed]",
      "text/plain": [
       "<Figure size 432x288 with 1 Axes>"
      ]
     },
     "metadata": {},
     "output_type": "display_data"
    }
   ],
   "source": [
    "plt.plot(our_dist)\n",
    "plt.title(\"Degree distribution of our network\")"
   ]
  },
  {
   "cell_type": "code",
   "execution_count": 41,
   "metadata": {
    "scrolled": true
   },
   "outputs": [
    {
     "data": {
      "text/plain": [
       "Text(0.5, 1.0, 'Degree distribution of the barabasi-albert model')"
      ]
     },
     "execution_count": 41,
     "metadata": {},
     "output_type": "execute_result"
    },
    {
     "data": {
      "image/png": "[encoded data removed]",
      "text/plain": [
       "<Figure size 432x288 with 1 Axes>"
      ]
     },
     "metadata": {},
     "output_type": "display_data"
    }
   ],
   "source": [
    "plt.plot(ba_dist)\n",
    "plt.title(\"Degree distribution of the barabasi-albert model\")"
   ]
  },
  {
   "cell_type": "code",
   "execution_count": 42,
   "metadata": {},
   "outputs": [
    {
     "data": {
      "text/plain": [
       "Text(0.5, 1.0, 'Degree distribution of the erdos-reny model')"
      ]
     },
     "execution_count": 42,
     "metadata": {},
     "output_type": "execute_result"
    },
    {
     "data": {
      "image/png": "[encoded data removed]",
      "text/plain": [
       "<Figure size 432x288 with 1 Axes>"
      ]
     },
     "metadata": {},
     "output_type": "display_data"
    }
   ],
   "source": [
    "plt.plot(er_dist)\n",
    "plt.title(\"Degree distribution of the erdos-reny model\")"
   ]
  },
  {
   "cell_type": "markdown",
   "metadata": {},
   "source": [
    "**Answers:**<br>\n",
    "The histogram is consistent with the KL results. In fact, we can see from the different plots that the shape of the degree distribution of the BA-graph and our graph are very similar : low degrees are very much represented (between 0 and 5 for our network and between 5 and 10 for BA), and there are still some nodes with very high degree (until 247 !). We also observe that our real network has a very high decrease, which looks like a power-law distribution. This confirms that BA and our network have a close degree distribution, since we know BA follows a power-law distribution. On the other hand, the degree distribution of the ER graph has a very different shape : it has a shape of a binomial distribution, centered arround 10 or 11, and spread until 0 and 25. Higher degree are not represented at all in the ER graph (probability zero from degree 26). <br>\n",
    "This is consistent with the results we got in the previous question : the KL divergence for BA was lower which means that its degree distribution closer to our network. <br> <br>\n",
    "We also see from these graphs that the graph that would correspond to ours would have the same degree dsitribution as BA, but shifted to the left, ie. with lower degrees."
   ]
  },
  {
   "cell_type": "markdown",
   "metadata": {},
   "source": [
    "### Question 9\n",
    "\n",
    "Imagine you got equal degree distributions. Would that guarantee you got the same graph? Explain."
   ]
  },
  {
   "cell_type": "markdown",
   "metadata": {},
   "source": [
    "**Answer :** <br>\n",
    "No. As a counter example, we can compare these two different adjacency matrices: <br>\n",
    " >[[0, 1, 1, 0, 0, 0], <br>\n",
    " [1, 0, 1, 0, 0, 0], <br>\n",
    " [1, 1, 0, 0, 0, 0], <br>\n",
    " [0, 0, 0, 0, 1, 1], <br>\n",
    " [0, 0, 0, 1, 0, 1], <br>\n",
    " [0, 0, 0, 1, 1, 0]] <br>\n",
    " <br>\n",
    " [[0, 1, 0, 0, 0, 1], <br>\n",
    " [1, 0, 1, 0, 0, 0], <br>\n",
    " [0, 1, 0, 1, 0, 0], <br>\n",
    " [0, 0, 1, 0, 1, 0], <br>\n",
    " [0, 0, 0, 1, 0, 1], <br>\n",
    " [1, 0, 0, 0, 1, 0]] <br>\n",
    " \n",
    "where the first one represents two disconected triangles and the second one an hexagone. Both of these graphs has the same degree distribution: 6 nodes of degree 2. But they are extremely different, one is disjoint, the other not."
   ]
  },
  {
   "cell_type": "markdown",
   "metadata": {},
   "source": [
    "## Part 2\n",
    "\n",
    "**You are allowed to use any additional library here (e.g., NetworkX, PyGSP, etc.).** Be careful not to include something here and use it in part 1!"
   ]
  },
  {
   "cell_type": "code",
   "execution_count": 43,
   "metadata": {},
   "outputs": [],
   "source": [
    "import networkx as nx"
   ]
  },
  {
   "cell_type": "markdown",
   "metadata": {},
   "source": [
    "### Question 10\n",
    "\n",
    "Choose a random network model that fits you network well. Explain your choice. \n",
    "\n",
    "**Hint:** Check lecture notes for different network models and their properties. Your choice should be made based on at least one property you'd expect to be similar."
   ]
  },
  {
   "cell_type": "markdown",
   "metadata": {},
   "source": [
    "**Answer:**<br>\n",
    "After having tested different possible models, we still think Barabasi-Albert is the closest known model to our network in terms of degree distribution. We can see it from the shape of the distributions showed before. To make it even closer to our network, we could improve it by tweaking some variable such as the shape of the initial graph. <br> \n",
    "However for the purpose of the milestone, we will present another model which is : Kim and Holme model. <br>\n",
    "We have chosen this one for the properties of having some nodes with high degree (hubs) and possibility of influencing the clustering coefficient. It is implemented in networkX library by function powerlaw_cluster_graph."
   ]
  },
  {
   "cell_type": "markdown",
   "metadata": {},
   "source": [
    "We have also tried implementing Watts-Strogatz algorithm, but its degree distribution was very different from ours. It was better than Erdos-Reny, with a KL_divergence of 0.24, but way worse than BA or Kim-Holme (~0.05)."
   ]
  },
  {
   "cell_type": "markdown",
   "metadata": {},
   "source": [
    "### Question 11\n",
    "\n",
    "Explain (in short) how the chosen model works."
   ]
  },
  {
   "cell_type": "markdown",
   "metadata": {},
   "source": [
    "This model works very similar to the Barabasi-Albert model. It takes one more parameter $p$, which is the probability of adding randomly extra edges to generate a triangle at each step."
   ]
  },
  {
   "cell_type": "markdown",
   "metadata": {},
   "source": [
    "### Question 12\n",
    "\n",
    "Create a random graph from that model, such that the number of nodes is the same as in your graph."
   ]
  },
  {
   "cell_type": "code",
   "execution_count": 44,
   "metadata": {},
   "outputs": [
    {
     "name": "stdout",
     "output_type": "stream",
     "text": [
      "0.05476958985948191\n"
     ]
    },
    {
     "data": {
      "image/png": "[encoded data removed]",
      "text/plain": [
       "<Figure size 432x288 with 1 Axes>"
      ]
     },
     "metadata": {},
     "output_type": "display_data"
    }
   ],
   "source": [
    "m = 6\n",
    "p = 0.4\n",
    "seed = 2\n",
    "\n",
    "# kim-holme\n",
    "kim_holme = nx.powerlaw_cluster_graph(n_nodes, m, p, seed=3)\n",
    "kh_adj = np.array(nx.to_numpy_matrix(kim_holme))\n",
    "kh_freq_histo, kh_histo = make_histogram(kh_adj)\n",
    "kh_dist = make_distrib(kh_adj)\n",
    "\n",
    "# watts-strogatz (we won't use it)\n",
    "ws = nx.connected_watts_strogatz_graph(n_nodes, 5, 0.9, seed=3)\n",
    "ws_adj = np.array(nx.to_numpy_matrix(ws))\n",
    "ws_freq_histo, ws_histo = make_histogram(ws_adj)\n",
    "ws_dist = make_distrib(ws_adj)\n",
    "\n",
    "weights = np.ones_like(our_histo) / float(n_nodes)\n",
    "b = np.linspace(0, 100, 100)\n",
    "plt.hist(our_histo, weights=weights, bins=b)\n",
    "plt.hist(kh_histo, weights=weights, bins=b)\n",
    "plt.ylim((0, 0.3))\n",
    "\n",
    "kh_dist = make_distrib(kh_histo)\n",
    "kl = kl_divergence(kh_dist, our_dist, bins = 19)\n",
    "print(kl)"
   ]
  },
  {
   "cell_type": "markdown",
   "metadata": {},
   "source": [
    "### Question 13\n",
    "\n",
    "Check the properties you expected to be similar, and compare to your network."
   ]
  },
  {
   "cell_type": "code",
   "execution_count": 45,
   "metadata": {},
   "outputs": [
    {
     "name": "stdout",
     "output_type": "stream",
     "text": [
      "Kim-Holme\n",
      "=================\n",
      "Number of nodes ( real ):  3179\n",
      "Number of nodes ( random ):  3179\n",
      "=================\n",
      "Number of edges ( real ):  18616\n",
      "Number of edges ( random ):  19011\n",
      "=================\n",
      "clustering coefficient ( real ):  0.4905417456798235\n",
      "clustering coefficient ( random ):  0.13984017795921191\n",
      "=================\n",
      "Average degree ( real ):  11.711859075180875\n",
      "Average degree ( random ):  11.96036489462095\n",
      "Average neighbor degree ( real ): \n"
     ]
    },
    {
     "data": {
      "image/png": "[encoded data removed]",
      "text/plain": [
       "<Figure size 432x288 with 1 Axes>"
      ]
     },
     "metadata": {},
     "output_type": "display_data"
    },
    {
     "name": "stdout",
     "output_type": "stream",
     "text": [
      "Average neighbor degree ( random ): \n"
     ]
    },
    {
     "data": {
      "image/png": "[encoded data removed]",
      "text/plain": [
       "<Figure size 432x288 with 1 Axes>"
      ]
     },
     "metadata": {},
     "output_type": "display_data"
    },
    {
     "name": "stdout",
     "output_type": "stream",
     "text": [
      "K nearest neighbors ( real ): \n"
     ]
    },
    {
     "data": {
      "image/png": "[encoded data removed]",
      "text/plain": [
       "<Figure size 432x288 with 1 Axes>"
      ]
     },
     "metadata": {},
     "output_type": "display_data"
    },
    {
     "name": "stdout",
     "output_type": "stream",
     "text": [
      "K nearest neighbors ( random ): \n"
     ]
    },
    {
     "data": {
      "image/png": "[encoded data removed]",
      "text/plain": [
       "<Figure size 432x288 with 1 Axes>"
      ]
     },
     "metadata": {},
     "output_type": "display_data"
    },
    {
     "name": "stdout",
     "output_type": "stream",
     "text": [
      "Degree distribution ( real ): \n",
      "(1, 3179)\n",
      "Degree distribution ( random ): \n",
      "(1, 3179)\n",
      "\n",
      "=====================================\n",
      "Properties of the largest component ( real ): \n",
      "Nodes, edges:  3154  ,  18616\n",
      "Clustering coef:  0.49144436995862156\n",
      "Avg degree:  11.789473684210526\n",
      "\n",
      "=====================================\n",
      "Properties of the largest component ( random ): \n",
      "Nodes, edges:  3179  ,  19011\n",
      "Clustering coef:  0.13984017795921191\n",
      "Avg degree:  11.96036489462095\n",
      "\n",
      "======================================================================\n",
      " Real Graph: \n",
      " Random Graph: \n",
      "KL divergence between them:  0.05476958985948191\n"
     ]
    }
   ],
   "source": [
    "#Degree distribution, clusturing coefficient, diameter, (average degree), compare biggest component, hubs?\n",
    "def compare(real, random):\n",
    "\n",
    "    graphs = (real, random)\n",
    "    def name(G):\n",
    "        return 'real' if G == real else 'random'\n",
    "    \n",
    "    \n",
    "    print(\"=================\")  \n",
    "    [print(\"Number of nodes (\", name(G) ,\"): \", nx.number_of_nodes(G)) for G in graphs]\n",
    "    \n",
    "    print(\"=================\")  \n",
    "    [print(\"Number of edges (\", name(G) ,\"): \", nx.number_of_edges(G)) for G in graphs]\n",
    "    \n",
    "    print(\"=================\")  \n",
    "    [print(\"clustering coefficient (\", name(G) ,\"): \", nx.average_clustering(G)) for G in graphs]\n",
    "    print(\"=================\")  \n",
    "    [print(\"Average degree (\", name(G) ,\"): \", np.array([d for n, d in G.degree()]).mean()) for G in graphs]\n",
    "        \n",
    "    \n",
    "    for G in graphs:\n",
    "        avg_deg_connectivity = nx.average_degree_connectivity(G)\n",
    "    #print(\"Average degree connectivity: \", nx.average_degree_connectivity(G))\n",
    "        \n",
    "    \n",
    "    for G in graphs:\n",
    "        print(\"Average neighbor degree (\", name(G) ,\"): \")\n",
    "        average_neighbor_degree = nx.average_neighbor_degree(G)\n",
    "    \n",
    "        plt.figure()\n",
    "        plt.plot(average_neighbor_degree.values())\n",
    "        plt.show()\n",
    "    \n",
    "    for G in graphs:\n",
    "        k_nearest = nx.k_nearest_neighbors(G)\n",
    "        print(\"K nearest neighbors (\", name(G) ,\"): \")\n",
    "    \n",
    "    \n",
    "        plt.figure()\n",
    "        plt.plot(k_nearest.values())\n",
    "        plt.show()\n",
    "        \n",
    "        \n",
    "    for G in graphs:\n",
    "        adj = nx.to_numpy_matrix(G)\n",
    "        \n",
    "        distr, _ = make_histogram(adj)\n",
    "        print(\"Degree distribution (\", name(G) ,\"): \")\n",
    "    \n",
    "        print(distr.shape)\n",
    "        distr, _ = make_histogram(adj)\n",
    "    \n",
    "    \n",
    "        \n",
    "    Gc = max(nx.connected_component_subgraphs(G), key=len)\n",
    "      \n",
    "        \n",
    "\n",
    "    for G in graphs:\n",
    "        print()\n",
    "        print(\"=====================================\")\n",
    "        print(\"Properties of the largest component (\", name(G) ,\"): \")\n",
    "        Gc = max(nx.connected_component_subgraphs(G), key=len)\n",
    "        print(\"Nodes, edges: \", len(Gc), \" , \", G.number_of_edges())\n",
    "        print(\"Clustering coef: \", nx.average_clustering(Gc))\n",
    "        print(\"Avg degree: \", np.array([d for n, d in Gc.degree()]).mean())\n",
    "        \n",
    "        \n",
    "    #print(\"=====================================\")\n",
    "    print()\n",
    "\n",
    "    print(\"======================================================================\")   \n",
    "    print(\" Real Graph: \")    \n",
    "    #print_properties(real)\n",
    "    real_adj = adjacency\n",
    "    \n",
    "    print(\" Random Graph: \")    \n",
    "    #print_properties(random)\n",
    "    random_adj = np.array(nx.to_numpy_matrix(random))\n",
    "    \n",
    "    _, deg_real = make_histogram(real_adj)\n",
    "    _, deg_random = make_histogram(random_adj)\n",
    "    real_dist = make_distrib(deg_real)\n",
    "    random_dist = make_distrib(deg_random)\n",
    "    \n",
    "    print(\"KL divergence between them: \", kl_divergence(random_dist, real_dist, bins=19))\n",
    "    \n",
    "    #plt.show()\n",
    "    \n",
    "our = nx.from_numpy_matrix(np.matrix(adjacency))\n",
    "print(\"Kim-Holme\")\n",
    "compare(our, kim_holme)"
   ]
  },
  {
   "cell_type": "markdown",
   "metadata": {},
   "source": [
    "Are the results what you expected? Explain."
   ]
  },
  {
   "cell_type": "markdown",
   "metadata": {},
   "source": [
    "**Answer:**<br>\n",
    "The results are basically good, with a KL-divergence of 0.054. The main properties are similar, as expected since the degree distributions are similar : similar average degree (+- 0.2), similar number of edges (+- 400). <br>\n",
    "However the clustering coefficient are very different : 0.49 for ours and 0.14 for the random model. <br>\n",
    "We could increase the clustering coefficient by increasing the probability $p$ as a parameter of the function for creating the random graph, since this $p$ is the probability of adding a triangle at each step. However by doing that we destabilize the degree distribution, which shows in the kl-dvergence which goes up to 0.09, with $p=1$. <br>\n",
    "Similarly, we know that lower degrees are not so much represented in the model, since we connect each new node with m edges (so their degree is minimum m=6), whereas in our network we have a lot of nodes with very low degree (between 1 and 5). We can try to correct that by setting $m=1$ as a parameter to the model function. But then we get a much lower number of edges that in our graph : around 6000 instead of 18000 in our case. <br> <br>\n",
    "The best trade-off we have managed to find is the one we have presented here, but it is still not ideal. <br>\n",
    "It performs worse than the original Barabasi-Albert, in terms of degree distribution if we compare it using KL-divergence. <br> <br>\n",
    "Note also that the KL-divergence function is not a perfect metric for comparing distributions. In fact, if it equals zero, it can be deduced that the distributions are equal, but for any other result, the metric is biased because some fundamental mathematical properties, such as the triangle inequality. Therefore we should not follow the results we got with KL-divergence to the letter."
   ]
  },
  {
   "cell_type": "code",
   "execution_count": null,
   "metadata": {},
   "outputs": [],
   "source": []
  }
 ],
 "metadata": {
  "kernelspec": {
   "display_name": "Python 3",
   "language": "python",
   "name": "python3"
  },
  "language_info": {
   "codemirror_mode": {
    "name": "ipython",
    "version": 3
   },
   "file_extension": ".py",
   "mimetype": "text/x-python",
   "name": "python",
   "nbconvert_exporter": "python",
   "pygments_lexer": "ipython3",
   "version": "3.7.0"
  }
 },
 "nbformat": 4,
 "nbformat_minor": 2
}
