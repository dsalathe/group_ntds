{
 "cells": [
  {
   "cell_type": "markdown",
   "metadata": {},
   "source": [
    "# [NTDS'18] milestone 2: network models\n",
    "[ntds'18]: https://github.com/mdeff/ntds_2018\n",
    "\n",
    "[Hermina Petric Maretic](https://people.epfl.ch/hermina.petricmaretic), [EPFL LTS4](https://lts4.epfl.ch)"
   ]
  },
  {
   "cell_type": "markdown",
   "metadata": {},
   "source": [
    "## Students\n",
    "\n",
    "* Team: `8`\n",
    "* Students: `Matyas Lustig, Aurélien Pomini, David Salathé, Justine Weber`\n",
    "* Dataset: `Flight Routes`"
   ]
  },
  {
   "cell_type": "markdown",
   "metadata": {},
   "source": [
    "## Rules\n",
    "\n",
    "* Milestones have to be completed by teams. No collaboration between teams is allowed.\n",
    "* Textual answers shall be short. Typically one to two sentences.\n",
    "* Code has to be clean.\n",
    "* In the first part, you cannot import any other library than we imported. In the second part, you are allowed to import any library you want.\n",
    "* When submitting, the notebook is executed and the results are stored. I.e., if you open the notebook again it should show numerical results and plots. We won't be able to execute your notebooks.\n",
    "* The notebook is re-executed from a blank state before submission. That is to be sure it is reproducible. You can click \"Kernel\" then \"Restart & Run All\" in Jupyter."
   ]
  },
  {
   "cell_type": "markdown",
   "metadata": {},
   "source": [
    "## Objective\n",
    "\n",
    "The purpose of this milestone is to explore various random network models, analyse their properties and compare them to your network. In the first part of the milestone you will implement two random graph models and try to fit them to your network. In this part you are not allowed to use any additional package. In the second part of the milestone you will choose a third random graph model that you think shares some properties with your network. You will be allowed to use additional packages to construct this network, but you must explain your network choice. Finally, make your code as clean as possible, and keep your textual answers short."
   ]
  },
  {
   "cell_type": "markdown",
   "metadata": {},
   "source": [
    "## Part 0\n",
    "\n",
    "Import the adjacency matrix of your graph that you constructed in milestone 1, as well as the number of nodes and edges of your network."
   ]
  },
  {
   "cell_type": "code",
   "execution_count": 1,
   "metadata": {},
   "outputs": [],
   "source": [
    "import numpy as np\n",
    "\n",
    "adjacency =  np.load('data/adjacency_sym_mtx_uw.npy')  # the adjacency matrix\n",
    "n_nodes =  adjacency.shape[0] # the number of nodes in the network\n",
    "adjacency[np.diag_indices_from(adjacency)] = 0 # set diagonal elements to 0 (see comment)\n",
    "n_edges =  adjacency.sum() / 2 # the number of edges in the network"
   ]
  },
  {
   "cell_type": "code",
   "execution_count": 3,
   "metadata": {},
   "outputs": [
    {
     "name": "stdout",
     "output_type": "stream",
     "text": [
      "Number of nodes :  3179\n",
      "Number of edges :  18616.0\n"
     ]
    }
   ],
   "source": [
    "print(\"Number of nodes : \", n_nodes)\n",
    "print(\"Number of edges : \", n_edges)"
   ]
  },
  {
   "cell_type": "markdown",
   "metadata": {},
   "source": [
    "**Comment 1:** <br>\n",
    "We have decided to import the symmetric unweighted adjacency matrix, previously computed in Milestone one. Why symmetric and unweighted ? <br>\n",
    "Because in this milestone (2), we will compare our network to random network models. From the models we have seen in class, the random network models we will use and built by adding edges which are undirected and unweighted. Therefore we have concluded that it would make more sense to compare a network sharing the same properties, ie. the unweighted symmetric version of our network."
   ]
  },
  {
   "cell_type": "markdown",
   "metadata": {},
   "source": [
    "**Comment 2:** <br>\n",
    "We have noticed that our previously constructed graph from Milestone 1, actually has self loop. It comes from the fact that, in the routes data set, one entry related an airport to itself : it is both the source and the destination airport of the entry (it is the airport having IATA \"PKN\", and the entry at index 33276 in routes). As a consequence, our adjacency matrix has one non zero element on the diagonal. <br>\n",
    "If we place this in the context of airlines, it doesn't really make sense to have a line from an airport to itself. We have therefore decided to ignore this edge in the adjacency matrix. This is why we compute the number of edges by summing the elements of the unweighted adjacency matrix and subtracting one. We divide by two since the matrix is symmetric : each path is represented twice for each direction."
   ]
  },
  {
   "cell_type": "markdown",
   "metadata": {},
   "source": [
    "## Part 1\n",
    "\n",
    "**For the computation of this part of the milestone you are only allowed to use the packages that have been imported in the cell below.**"
   ]
  },
  {
   "cell_type": "code",
   "execution_count": 4,
   "metadata": {},
   "outputs": [],
   "source": [
    "%matplotlib inline\n",
    "\n",
    "import random\n",
    "\n",
    "import numpy as np\n",
    "import pandas as pd\n",
    "import matplotlib.pyplot as plt\n",
    "import scipy\n",
    "\n",
    "from scipy.sparse import random"
   ]
  },
  {
   "cell_type": "markdown",
   "metadata": {},
   "source": [
    "### Question 1\n",
    "\n",
    "Create a function that constructs an Erdős–Rényi graph."
   ]
  },
  {
   "cell_type": "code",
   "execution_count": 5,
   "metadata": {},
   "outputs": [],
   "source": [
    "def erdos_renyi(n, p, seed=None):\n",
    "    \"\"\"Create an instance from the Erdos-Renyi graph model.\n",
    "    \n",
    "    Parameters\n",
    "    ----------\n",
    "    n: int\n",
    "        Size of the graph.\n",
    "    p: float\n",
    "        Edge probability. A number between 0 and 1.\n",
    "    seed: int (optional)\n",
    "        Seed for the random number generator. To get reproducible results.\n",
    "    \n",
    "    Returns\n",
    "    -------\n",
    "    adjacency\n",
    "        The adjacency matrix of a graph.\n",
    "    \"\"\"\n",
    "    np.random.seed(seed)\n",
    "\n",
    "    rnd = np.random.choice([0, 1], size=(n, n), p=[1-p, p])\n",
    "    rnd = np.triu(rnd, 1)\n",
    "    adjacency = rnd + rnd.T\n",
    "\n",
    "    #adjacency = np.zeros((n, n))\n",
    "    #for i in range(n):  # rows\n",
    "    #    for j in range(n):  # cols\n",
    "    #        if i > j:\n",
    "    #            continue\n",
    "    #        adjacency[i, j] = np.random.choice([0, 1], p=[1 - p, p])\n",
    "    #        adjacency[j, i] = adjacency[i, j]\n",
    "    \n",
    "    return adjacency"
   ]
  },
  {
   "cell_type": "code",
   "execution_count": 9,
   "metadata": {},
   "outputs": [
    {
     "name": "stdout",
     "output_type": "stream",
     "text": [
      "0.32\n"
     ]
    },
    {
     "data": {
      "image/png": "[encoded data removed]",
      "text/plain": [
       "<Figure size 432x288 with 1 Axes>"
      ]
     },
     "metadata": {},
     "output_type": "display_data"
    }
   ],
   "source": [
    "er = erdos_renyi(5, 0.6, 9765) #9765\n",
    "plt.spy(er)\n",
    "plt.title('Erdos-Renyi (5, 0.6)')\n",
    "\n",
    "print(er.sum() / (5*5))"
   ]
  },
  {
   "cell_type": "code",
   "execution_count": 10,
   "metadata": {},
   "outputs": [
    {
     "data": {
      "text/plain": [
       "Text(0.5, 1.05, 'Erdos-Renyi (10, 0.4)')"
      ]
     },
     "execution_count": 10,
     "metadata": {},
     "output_type": "execute_result"
    },
    {
     "data": {
      "image/png": "[encoded data removed]",
      "text/plain": [
       "<Figure size 432x288 with 1 Axes>"
      ]
     },
     "metadata": {},
     "output_type": "display_data"
    }
   ],
   "source": [
    "er = erdos_renyi(10, 0.4, 7648)\n",
    "plt.spy(er)\n",
    "plt.title('Erdos-Renyi (10, 0.4)')"
   ]
  },
  {
   "cell_type": "markdown",
   "metadata": {},
   "source": [
    "### Question 2\n",
    "\n",
    "Use the function to create a random Erdos-Renyi graph. Choose the parameters such that number of nodes is the same as in your graph, and the number of edges similar. You don't need to set the random seed. Comment on your choice of parameters."
   ]
  },
  {
   "cell_type": "code",
   "execution_count": 12,
   "metadata": {},
   "outputs": [
    {
     "name": "stdout",
     "output_type": "stream",
     "text": [
      "Our graph no. of edges: 18616.0\n",
      "ER graph no. of edges: 18829.0\n"
     ]
    }
   ],
   "source": [
    "p = 2 * n_edges / ( n_nodes * (n_nodes-1))\n",
    "er = erdos_renyi(n_nodes, p, None)\n",
    "print('Our graph no. of edges:', n_edges)\n",
    "print('ER graph no. of edges:', er.sum() / 2)"
   ]
  },
  {
   "cell_type": "markdown",
   "metadata": {},
   "source": [
    "**Your answer here.**"
   ]
  },
  {
   "cell_type": "markdown",
   "metadata": {},
   "source": [
    "### Question 3\n",
    "\n",
    "Create a function that constructs a Barabási-Albert graph."
   ]
  },
  {
   "cell_type": "code",
   "execution_count": 21,
   "metadata": {},
   "outputs": [],
   "source": [
    "def barabasi_albert(n, m, seed=None):\n",
    "    \"\"\"Create an instance from the Barabasi-Albert graph model.\n",
    "    \n",
    "    Parameters\n",
    "    ----------\n",
    "    n: int\n",
    "        Size of the graph.\n",
    "    m: int\n",
    "        Number of edges to attach from a new node to existing nodes.\n",
    "    seed: int (optional)\n",
    "        Seed for the random number generator. To get reproducible results.\n",
    "    \n",
    "    Returns\n",
    "    -------\n",
    "    adjacency\n",
    "        The adjacency matrix of a graph.\n",
    "    \"\"\"\n",
    "    assert n >= m, \"m cannot be bigger than n\"\n",
    "    \n",
    "    # Set the seed\n",
    "    np.random.seed(seed)\n",
    "    \n",
    "    # Create adjacency matrix for BA-model\n",
    "    adjacency = np.zeros((n,n))\n",
    "    \n",
    "    # List of nodes to connect \n",
    "    candidates = set(np.arange(n))\n",
    "    \n",
    "    # t is number of iterations\n",
    "    t = n - m\n",
    "    \n",
    "    # Initiation of the graph :\n",
    "    # Connect m randomly selected initial nodes \n",
    "    # among the n, as a line in a random order\n",
    "    m0s = np.random.choice(n, m, replace=False)\n",
    "    for i in range(m0s.shape[0]-1):\n",
    "        adjacency[m0s[i], m0s[i+1]] = 1\n",
    "        adjacency[m0s[i+1], m0s[i]] = 1\n",
    "        \n",
    "    candidates -= set(m0s)\n",
    "\n",
    "    # Add new nodes for t iterations\n",
    "    for i in range(t):\n",
    "        totalDeg = adjacency.sum()\n",
    "        if totalDeg == 0:\n",
    "            prefs = np.zeros((n))\n",
    "            prefs[m0s[0]] = 1\n",
    "        else:\n",
    "            # table of proba for preferential attachement\n",
    "            prefs = [x.sum()/totalDeg for x in adjacency]\n",
    "        \n",
    "        # Select m neighbours randomly according to preferential \n",
    "        # attachement to connect the new node to\n",
    "        ms = np.random.choice(n, m, replace=False, p=prefs)\n",
    "        \n",
    "        # Select the new node to connect randomly    WHAT HAPPENS IF ONE NODE IS IN CANDIDATES AND MS ? SELF-LOOP\n",
    "        candidate = np.random.choice(list(candidates), 1, replace=False)\n",
    "        \n",
    "        # Add the m new edges in adjacency matrix\n",
    "        adjacency[candidate, ms] = 1\n",
    "        adjacency[ms, candidate] = 1\n",
    "        \n",
    "        candidates -= set(candidate)\n",
    "        \n",
    "    assert len(candidates) == 0\n",
    "        \n",
    "    return adjacency"
   ]
  },
  {
   "cell_type": "code",
   "execution_count": 22,
   "metadata": {},
   "outputs": [
    {
     "data": {
      "text/plain": [
       "Text(0.5, 1.05, 'Barabasi-Albert (5, 1)')"
      ]
     },
     "execution_count": 22,
     "metadata": {},
     "output_type": "execute_result"
    },
    {
     "data": {
      "image/png": "[encoded data removed]",
      "text/plain": [
       "<Figure size 432x288 with 1 Axes>"
      ]
     },
     "metadata": {},
     "output_type": "display_data"
    }
   ],
   "source": [
    "ba = barabasi_albert(5, 1, 9087)\n",
    "plt.spy(ba)\n",
    "plt.title('Barabasi-Albert (5, 1)')"
   ]
  },
  {
   "cell_type": "code",
   "execution_count": 23,
   "metadata": {},
   "outputs": [
    {
     "data": {
      "text/plain": [
       "Text(0.5, 1.05, 'Barabasi-Albert (10, 2)')"
      ]
     },
     "execution_count": 23,
     "metadata": {},
     "output_type": "execute_result"
    },
    {
     "data": {
      "image/png": "[encoded data removed]",
      "text/plain": [
       "<Figure size 432x288 with 1 Axes>"
      ]
     },
     "metadata": {},
     "output_type": "display_data"
    }
   ],
   "source": [
    "ba = barabasi_albert(10, 2, 8708)\n",
    "plt.spy(ba)\n",
    "plt.title('Barabasi-Albert (10, 2)')"
   ]
  },
  {
   "cell_type": "markdown",
   "metadata": {},
   "source": [
    "### Question 4\n",
    "\n",
    "Use the function to create a random Barabási-Albert graph. Choose the parameters such that number of nodes is the same as in your graph, and the number of edges similar. You don't need to set the random seed. Comment on your choice of parameters."
   ]
  },
  {
   "cell_type": "code",
   "execution_count": 16,
   "metadata": {},
   "outputs": [
    {
     "name": "stdout",
     "output_type": "stream",
     "text": [
      "5.86490475086066 3174.1350952491393\n",
      "19043.0\n"
     ]
    },
    {
     "data": {
      "image/png": "[encoded data removed]",
      "text/plain": [
       "<Figure size 432x288 with 1 Axes>"
      ]
     },
     "metadata": {},
     "output_type": "display_data"
    }
   ],
   "source": [
    "root1 = (-(n_nodes + 1) + np.sqrt((n_nodes + 1)**2 - 4 * n_edges))/(-2)\n",
    "root2 = (-(n_nodes + 1) - np.sqrt((n_nodes + 1)**2 - 4 * n_edges))/(-2)\n",
    "print(root1, root2)\n",
    "m = int(round(root1))\n",
    "ba = barabasi_albert(n_nodes, m)\n",
    "plt.spy(ba)\n",
    "plt.title('Barabasi-Albert ({}, {})'.format(n_nodes, m))\n",
    "print(ba.sum()//2)"
   ]
  },
  {
   "cell_type": "markdown",
   "metadata": {},
   "source": [
    "The parameter n is trivial: n_nodes. For the parameter m, recall that if we fix $m0 = m$, we have $mt + m0$ edges, ie. $mt + m$ edges. We also have $t = N - m$. This yield $n\\_edges = mt + m = m(N - m) + m = mN - m^2 + m = m(N+1) - m^2$.\n",
    "Then by using the delta method, we have $-m^2 + (n\\_nodes+1)m - n\\_edges = 0$, where N = n_nodes. roots are 5.86 and 3174.13. However, the average degree per node is clearly near 5.86 than 3174.13, (it was 11.71). We therefore decided to choose round(5.86) => 6."
   ]
  },
  {
   "cell_type": "markdown",
   "metadata": {},
   "source": [
    "### Question 5\n",
    "\n",
    "Compare the number of edges in all three networks (your real network, the Erdős–Rényi network, and the Barabási-Albert netowk)."
   ]
  },
  {
   "cell_type": "code",
   "execution_count": 29,
   "metadata": {},
   "outputs": [
    {
     "name": "stdout",
     "output_type": "stream",
     "text": [
      "18623.0\n",
      "19043.0\n",
      "18616\n"
     ]
    }
   ],
   "source": [
    "print(er.sum() / 2)\n",
    "print(ba.sum() / 2)\n",
    "print(n_edges)"
   ]
  },
  {
   "cell_type": "markdown",
   "metadata": {},
   "source": [
    "### Question 6\n",
    "\n",
    "Implement a function that computes the [Kullback–Leibler (KL) divergence](https://en.wikipedia.org/wiki/Kullback%E2%80%93Leibler_divergence) between two probability distributions.\n",
    "We'll use it to compare the degree distributions of networks."
   ]
  },
  {
   "cell_type": "code",
   "execution_count": 12,
   "metadata": {},
   "outputs": [],
   "source": [
    "def kl_divergence(p, q):\n",
    "    \"\"\"Compute the KL divergence between probability distributions of degrees of two networks.\n",
    "    \n",
    "    Parameters\n",
    "    ----------\n",
    "    p: np.array\n",
    "        Probability distribution of degrees of the 1st graph.\n",
    "    q: np.array\n",
    "        Probability distribution of degrees of the 2nd graph.\n",
    "    \n",
    "    Returns\n",
    "    -------\n",
    "    kl\n",
    "        The KL divergence between the two distributions.\n",
    "    \"\"\"\n",
    "    \n",
    "    #  compute Dkl(P||Q)\n",
    "    #pi ln (pi / qi)\n",
    "    #(p * np.log(p/q)).sum()\n",
    "    def helper_kl(p,q):\n",
    "        if p == 0 or q == 0:\n",
    "            return 0\n",
    "        return p * np.log(p/q)\n",
    "    \n",
    "    return np.vectorize(helper_kl)(p,q).sum()"
   ]
  },
  {
   "cell_type": "code",
   "execution_count": 13,
   "metadata": {},
   "outputs": [
    {
     "data": {
      "text/plain": [
       "0.09151622184943575"
      ]
     },
     "execution_count": 13,
     "metadata": {},
     "output_type": "execute_result"
    }
   ],
   "source": [
    "p_test = np.array([0.2, 0.2, 0.2, 0.4])\n",
    "q_test = np.array([0.3, 0.3, 0.1, 0.3])\n",
    "kl_divergence(p_test, q_test)"
   ]
  },
  {
   "cell_type": "markdown",
   "metadata": {},
   "source": [
    "### Question 7\n",
    "\n",
    "Compare the degree distribution of your network to each of the two synthetic ones, in terms of KL divergence. **Hint:** Make sure you normalise your degree distributions to make them valid probability distributions."
   ]
  },
  {
   "cell_type": "code",
   "execution_count": 31,
   "metadata": {},
   "outputs": [
    {
     "name": "stdout",
     "output_type": "stream",
     "text": [
      "0\n",
      "0\n"
     ]
    }
   ],
   "source": [
    "def make_distribution(adjacency):\n",
    "    degree = np.sum(adjacency, axis = 0)\n",
    "    total = degree.sum()\n",
    "    return degree / total, degree\n",
    "\n",
    "\n",
    "\n",
    "real_distr, degReal = make_distribution(adjacency)\n",
    "albert_distr, degAlbert = make_distribution(ba)\n",
    "er_distr, degEr = make_distribution(er)\n",
    "\n",
    "realToAlbert = kl_divergence(adjacency, ba)\n",
    "realToEr = kl_divergence(adjacency, er)\n",
    "print(realToAlbert)\n",
    "print(realToEr)"
   ]
  },
  {
   "cell_type": "markdown",
   "metadata": {},
   "source": [
    "### Question 8\n",
    "\n",
    "Plot the degree distribution historgrams for all three networks. Are they consistent with the KL divergence results? Explain."
   ]
  },
  {
   "cell_type": "code",
   "execution_count": 50,
   "metadata": {},
   "outputs": [
    {
     "data": {
      "text/plain": [
       "(array([0.00692042, 0.04435357, 0.22082416, 0.21830764, 0.30764391,\n",
       "        0.11544511, 0.07109154, 0.01132432, 0.00283108, 0.00125826]),\n",
       " array([ 2. ,  4.5,  7. ,  9.5, 12. , 14.5, 17. , 19.5, 22. , 24.5, 27. ]),\n",
       " <a list of 10 Patch objects>)"
      ]
     },
     "execution_count": 50,
     "metadata": {},
     "output_type": "execute_result"
    },
    {
     "data": {
      "image/png": "[encoded data removed]",
      "text/plain": [
       "<Figure size 432x288 with 1 Axes>"
      ]
     },
     "metadata": {},
     "output_type": "display_data"
    }
   ],
   "source": [
    "weights = np.ones_like(degReal) / float(n_nodes)\n",
    "#assert weights.all() == (np.ones_like(degAlbert) / float(n_nodes)).all()\n",
    "plt.hist(degReal, weights=weights)\n",
    "plt.hist(degAlbert, weights=weights)\n",
    "plt.hist(degEr, weights=weights)"
   ]
  },
  {
   "cell_type": "markdown",
   "metadata": {},
   "source": [
    "Blue: Real Network. <br/>\n",
    "Orange: Albert <br/>\n",
    "Green: random <br/>"
   ]
  },
  {
   "cell_type": "markdown",
   "metadata": {},
   "source": [
    "### Question 9\n",
    "\n",
    "Imagine you got equal degree distributions. Would that guarantee you got the same graph? Explain."
   ]
  },
  {
   "cell_type": "markdown",
   "metadata": {},
   "source": [
    "No. As a counter example, we can compare these two different adjacency matrices:"
   ]
  },
  {
   "cell_type": "markdown",
   "metadata": {},
   "source": [
    "## Part 2\n",
    "\n",
    "**You are allowed to use any additional library here (e.g., NetworkX, PyGSP, etc.).** Be careful not to include something here and use it in part 1!"
   ]
  },
  {
   "cell_type": "markdown",
   "metadata": {},
   "source": [
    "### Question 10\n",
    "\n",
    "Choose a random network model that fits you network well. Explain your choice. \n",
    "\n",
    "**Hint:** Check lecture notes for different network models and their properties. Your choice should be made based on at least one property you'd expect to be similar."
   ]
  },
  {
   "cell_type": "markdown",
   "metadata": {},
   "source": [
    "We will base our model on the Barabási-Albert Model, because the degree distribution follows a power-law distribution. Moreover, the KL-divergence shows us the degree distribution is indeed closer to a Barabási-Albert Model than a Erdős–Rényi model."
   ]
  },
  {
   "cell_type": "markdown",
   "metadata": {},
   "source": [
    "### Question 11\n",
    "\n",
    "Explain (in short) how the chosen model works."
   ]
  },
  {
   "cell_type": "markdown",
   "metadata": {},
   "source": [
    "**Your answer here.**"
   ]
  },
  {
   "cell_type": "markdown",
   "metadata": {},
   "source": [
    "### Question 12\n",
    "\n",
    "Create a random graph from that model, such that the number of nodes is the same as in your graph."
   ]
  },
  {
   "cell_type": "code",
   "execution_count": 16,
   "metadata": {},
   "outputs": [],
   "source": [
    "# Your code here."
   ]
  },
  {
   "cell_type": "markdown",
   "metadata": {},
   "source": [
    "### Question 13\n",
    "\n",
    "Check the properties you expected to be similar, and compare to your network."
   ]
  },
  {
   "cell_type": "code",
   "execution_count": 40,
   "metadata": {},
   "outputs": [],
   "source": [
    "#Degree distribution, clusturing coefficient, diameter, (average degree), compare biggest component, hubs?"
   ]
  },
  {
   "cell_type": "markdown",
   "metadata": {},
   "source": [
    "Are the results what you expected? Explain."
   ]
  },
  {
   "cell_type": "markdown",
   "metadata": {},
   "source": [
    "**Your answer here.**"
   ]
  }
 ],
 "metadata": {
  "kernelspec": {
   "display_name": "Python 3",
   "language": "python",
   "name": "python3"
  },
  "language_info": {
   "codemirror_mode": {
    "name": "ipython",
    "version": 3
   },
   "file_extension": ".py",
   "mimetype": "text/x-python",
   "name": "python",
   "nbconvert_exporter": "python",
   "pygments_lexer": "ipython3",
   "version": "3.7.0"
  }
 },
 "nbformat": 4,
 "nbformat_minor": 2
}
